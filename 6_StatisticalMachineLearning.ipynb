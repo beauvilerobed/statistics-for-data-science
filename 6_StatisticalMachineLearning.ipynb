{
 "cells": [
  {
   "cell_type": "markdown",
   "metadata": {},
   "source": [
    "# Statistical Machine Learning\n",
    "\n",
    "- **K-Nearest Neighbors**\n",
    "    - A Small Example: Predicting Loan Default\n",
    "    - Distance Metrics\n",
    "    - One Hot Encoder\n",
    "    - Standardization (Normalization, z-Scores)\n",
    "    - Choosing K\n",
    "    - KNN as a Feature Engine\n",
    "- **Tree Models**\n",
    "    - A Simple Example\n",
    "    - The Recursive Partitioning Algorithm\n",
    "    - Measuring Homogeneity or Impurity\n",
    "    - Stopping the Tree from Growing\n",
    "    - Predicting a Continuous Value\n",
    "    - How Trees Are Used\n",
    "    - Further Reading\n",
    "- **Bagging and the Random Forest**\n",
    "    - Bagging\n",
    "    - Random Forest\n",
    "    - Variable Importance\n",
    "    - Hyperparameters\n",
    "- **Boosting**\n",
    "    - The Boosting Algorithm              \n",
    "    - XGBoost\n",
    "    - Regularization: Avoiding Overfitting\n",
    "    - Hyperparameters and Cross-Validation\n",
    "\n",
    "### Machine Learning Versus Statistics\n",
    "\n",
    "Machine learning tends to be focused\n",
    "more on developing efficient algorithms that scale to large data in\n",
    "order to optimize the predictive model. Statistics generally pays\n",
    "more attention to the probabilistic theory and underlying structure\n",
    "of the model. \n",
    "\n",
    "Bagging, and the random forest, grew up firmly in the statistics\n",
    "camp. Boosting, on the other hand, has been developed in both disciplines but receives more attention on the machine learning side of the divide. Regardless of the history, the promise of boosting ensures that it will thrive as a technique in both statistics and machine learning."
   ]
  },
  {
   "cell_type": "markdown",
   "metadata": {},
   "source": [
    "## K-Nearest Neighbors\n",
    "\n",
    "The idea behind K-Nearest Neighbors (KNN) is very simple. For each record to be classified or predicted:\n",
    "1. Find K records that have similar features (i.e., similar predictor values).\n",
    "2. For classification, find out what the majority class is among those similar records and assign that class to the new record.\n",
    "3. For prediction (also called KNN regression), find the average among those similar records, and predict that average for the new record.\n",
    "\n",
    "Important key terms:\n",
    "**Neigbor**\n",
    "**Distance metrics**\n",
    "**Standardization**\n",
    "**z-score**\n",
    "**K**\n",
    "\n",
    "The prediction results depend on how the features are scaled, how similarity is measured, and how big K is set. Also, all predictors must be in numeric form. We will illustrate how to use the KNN method with a classification example."
   ]
  },
  {
   "cell_type": "code",
   "execution_count": 2,
   "metadata": {},
   "outputs": [],
   "source": [
    "import math\n",
    "import os\n",
    "import random\n",
    "from pathlib import Path\n",
    "from collections import defaultdict\n",
    "from itertools import product\n",
    "\n",
    "\n",
    "import pandas as pd\n",
    "import numpy as np\n",
    "\n",
    "from sklearn import preprocessing\n",
    "from sklearn.neighbors import KNeighborsClassifier\n",
    "from sklearn import metrics\n",
    "from sklearn.model_selection import train_test_split\n",
    "from sklearn.tree import DecisionTreeClassifier\n",
    "from sklearn.ensemble import RandomForestClassifier\n",
    "\n",
    "from xgboost import XGBClassifier\n",
    "\n",
    "import seaborn as sns\n",
    "import matplotlib.pyplot as plt\n",
    "from matplotlib.patches import Ellipse\n",
    "\n",
    "%matplotlib inline"
   ]
  },
  {
   "cell_type": "code",
   "execution_count": 3,
   "metadata": {},
   "outputs": [],
   "source": [
    "try:\n",
    "    import common\n",
    "    DATA = common.dataDirectory()\n",
    "except ImportError:\n",
    "    DATA = Path().resolve() / 'data'"
   ]
  },
  {
   "cell_type": "code",
   "execution_count": 4,
   "metadata": {},
   "outputs": [],
   "source": [
    "LOAN200_CSV = DATA / 'loan200.csv'\n",
    "LOAN3000_CSV = DATA / 'loan3000.csv'\n",
    "LOAN_DATA_CSV = DATA / 'loan_data.csv.gz'"
   ]
  },
  {
   "cell_type": "markdown",
   "metadata": {},
   "source": [
    "### A Small Example: Predicting Loan Default"
   ]
  },
  {
   "cell_type": "code",
   "execution_count": 5,
   "metadata": {},
   "outputs": [
    {
     "name": "stdout",
     "output_type": "stream",
     "text": [
      "[[0.45 0.55]]\n"
     ]
    }
   ],
   "source": [
    "loan200 = pd.read_csv(LOAN200_CSV)\n",
    " \n",
    "predictors = ['payment_inc_ratio', 'dti']\n",
    "outcome = 'outcome'\n",
    "\n",
    "\n",
    "newloan = loan200.loc[0:0, predictors]\n",
    "X = loan200.loc[1:, predictors]\n",
    "y = loan200.loc[1:, outcome]\n",
    "\n",
    "knn = KNeighborsClassifier(n_neighbors=20)\n",
    "knn.fit(X, y)\n",
    "knn.predict(newloan)\n",
    "print(knn.predict_proba(newloan))"
   ]
  },
  {
   "cell_type": "code",
   "execution_count": 6,
   "metadata": {},
   "outputs": [
    {
     "data": {
      "image/png": "[encoded data removed]",
      "text/plain": [
       "<Figure size 288x288 with 1 Axes>"
      ]
     },
     "metadata": {
      "needs_background": "light"
     },
     "output_type": "display_data"
    }
   ],
   "source": [
    "nbrs = knn.kneighbors(newloan)\n",
    "maxDistance = np.max(nbrs[0][0])\n",
    "\n",
    "fig, ax = plt.subplots(figsize=(4, 4))\n",
    "sns.scatterplot(x='payment_inc_ratio', y='dti', style='outcome', \n",
    "                hue='outcome', data=loan200, alpha=0.3, ax=ax)\n",
    "sns.scatterplot(x='payment_inc_ratio', y='dti', style='outcome', \n",
    "                hue='outcome', \n",
    "                data=pd.concat([loan200.loc[0:0, :], loan200.loc[nbrs[1][0] + 1,:]]), \n",
    "                ax=ax, legend=False)\n",
    "ellipse = Ellipse(xy=newloan.values[0], \n",
    "                  width=2 * maxDistance, height=2 * maxDistance,\n",
    "                  edgecolor='black', fc='None', lw=1)\n",
    "ax.add_patch(ellipse)\n",
    "ax.set_xlim(3, 16)\n",
    "ax.set_ylim(15, 30)\n",
    "\n",
    "plt.tight_layout()\n",
    "plt.show()"
   ]
  },
  {
   "cell_type": "markdown",
   "metadata": {},
   "source": []
  }
 ],
 "metadata": {
  "kernelspec": {
   "display_name": "Python 3",
   "language": "python",
   "name": "python3"
  },
  "language_info": {
   "codemirror_mode": {
    "name": "ipython",
    "version": 3
   },
   "file_extension": ".py",
   "mimetype": "text/x-python",
   "name": "python",
   "nbconvert_exporter": "python",
   "pygments_lexer": "ipython3",
   "version": "3.7.0"
  }
 },
 "nbformat": 4,
 "nbformat_minor": 2
}
