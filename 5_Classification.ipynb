{
 "cells": [
  {
   "cell_type": "markdown",
   "metadata": {},
   "source": [
    "# Classification\n",
    "\n",
    "Data scientists are often tasked with automating decisions for business problems. Is an email an attempt at phishing? Is a customer likely to churn? Is the web user likely to click on an advertisement? \n",
    "\n",
    "These are all classification problems, a form of super‐ vised learning in which we first train a model on data where the outcome is known and then apply the model to data where the outcome is not known. Classification is perhaps the most important form of prediction: the goal is to predict whether a record is a 1 or a 0 (phishing/not-phishing, click/don’t click, churn/don’t churn), or in some cases, one of several categories (for example, Gmail’s filtering of your inbox into “primary,” “social,” “promotional,” or “forums”).\n",
    "\n",
    "## Content\n",
    "- **Naive Bayes**\n",
    "    - Why Exact Bayesian Classification Is Impractical\n",
    "    - The Naive Solution\n",
    "    - Numeric Predictor Variables\n",
    "- **Discriminant Analysis***\n",
    "    - Covariance Matrix\n",
    "    - Fisher's Linear Discriminant (A Simple Example)\n",
    "- **Logistic Regression**\n",
    "    - Logistic Response Function and Logit\n",
    "    - Logistic Regression and the GLM \n",
    "    - Generalized Linear Models \n",
    "    - Predicted Values from Logistic Regression \n",
    "    - Interpreting the Coefficients and Odds Ratios \n",
    "    - Linear and Logistic Regression: Similarities and Differences  \n",
    "    - Assessing the Model\n",
    "- **Evaluating Classification Models**\n",
    "    - Confusion Matrix \n",
    "    - The Rare Class Problem \n",
    "    - Precision, Recall, and Specificity \n",
    "    - ROC Curve \n",
    "    - AUC \n",
    "    - Lift\n",
    "- **Strategies for Imbalanced Data**\n",
    "    - Undersampling \n",
    "    - Oversampling and Up/Down Weighting \n",
    "    - Data Generation 233 Cost-Based Classification \n",
    "    - Exploring the Predictions "
   ]
  },
  {
   "cell_type": "markdown",
   "metadata": {},
   "source": [
    "## More Than Two Categories?\n",
    "\n",
    "The vast majority of problems involve a binary response. Some classification prob‐ lems, however, involve a response with more than two possible outcomes. For exam‐ ple, at the anniversary of a customer’s subscription contract, there might be three outcomes: the customer leaves or “churns” (Y = 2), goes on a month-to-month con‐ tract (Y = 1), or signs a new long-term contract (Y = 0). The goal is to predict Y = j for j = 0, 1, or 2. Most of the classification methods in this chapter can be applied, either directly or with modest adaptations, to responses that have more than two outcomes. Even in the case of more than two outcomes, the problem can often be recast into a series of binary problems using conditional probabilities. For example, to predict the outcome of the contract, you can solve two binary prediction problems:\n",
    "\n",
    "- Predict whether Y = 0 or Y > 0.\n",
    "- Given that Y > 0, predict whether Y = 1 or Y = 2.\n",
    "\n",
    "In this case, it makes sense to break up the problem into two cases: (1) whether the customer churns; and (2) if they don’t churn, what type of contract they will choose. From a model-fitting viewpoint, it is often advantageous to convert the multiclass problem to a series of binary problems. This is particularly true when one category is much more common than the other categories."
   ]
  },
  {
   "cell_type": "markdown",
   "metadata": {},
   "source": [
    "## Naive Bayes\n",
    "\n",
    "Important key terms:\n",
    "- **Conditional probability**\n",
    "- **Posterior probability**(*in contrast to the prior probability*)"
   ]
  },
  {
   "cell_type": "markdown",
   "metadata": {},
   "source": [
    "### Why Exact Bayesian Classification Is Impractical\n",
    "\n",
    "When the number of predictor variables exceeds a handful, many of the records to be classified will be without exact matches. In the naive Bayes solution, we no longer restrict the probability calculation to those records that match the record to be classified. Instead, we use the entire data set. The naive Bayes modification is as follows:\n",
    "\n",
    "1. For a binary response Y = i (i = 0 or 1), estimate the individual conditional prob‐ abilities for each predictor $P(X_j|Y=i)$; these are the probabilities that the pre‐ dictor value is in the record when we observe Y = i. This probability is estimated by the proportion of Xj values among the Y = i records in the training set.\n",
    "2. Multiply these probabilities by each other, and then by the proportion of records belonging to Y = i.\n",
    "3. Repeat steps 1 and 2 for all the classes.\n",
    "4. Estimate a probability for outcome i by taking the value calculated in step 2 for\n",
    "class i and dividing it by the sum of such values for all classes.\n",
    "5. Assign the record to the class with the highest probability for this set of predictor\n",
    "values.\n",
    "\n",
    "In other words:\n",
    "The probability of observing outcome Y=i, given a set of predictor values $X_1,...,X_p$\n",
    "\n",
    "$$\n",
    "P(Y=i|X_1,...,X_p)\n",
    "$$\n",
    "\n",
    "Using Bayes Theorem, the Law of Total Probability, and the naive Bayes assumption of conditional independence we get:\n",
    "\n",
    "$$\n",
    "P(Y=i|X_1,...,X_p) = \\frac{P(Y=i)\\Pi_{j=1}^p P(X_j|Y=i)}{P(Y=0)\\Pi_{j=1}^p P(X_j|Y=0)+P(Y=1)\\Pi_{j=1}^p P(X_j|Y=1)}\n",
    "$$"
   ]
  },
  {
   "cell_type": "code",
   "execution_count": 1,
   "metadata": {},
   "outputs": [],
   "source": [
    "from pathlib import Path\n",
    "import pandas as pd\n",
    "import numpy as np\n",
    "\n",
    "from sklearn.naive_bayes import MultinomialNB\n",
    "from sklearn.discriminant_analysis import LinearDiscriminantAnalysis\n",
    "from sklearn.linear_model import LogisticRegression #, LogisticRegressionCV\n",
    "from sklearn.tree import DecisionTreeClassifier\n",
    "from sklearn.metrics import confusion_matrix, precision_recall_fscore_support\n",
    "from sklearn.metrics import roc_curve, accuracy_score, roc_auc_score\n",
    "\n",
    "import statsmodels.api as sm\n",
    "\n",
    "from imblearn.over_sampling import SMOTE, ADASYN, BorderlineSMOTE\n",
    "from pygam import LinearGAM, s, f, l\n",
    "\n",
    "import seaborn as sns\n",
    "import matplotlib.pyplot as plt\n",
    "\n",
    "%matplotlib inline"
   ]
  },
  {
   "cell_type": "code",
   "execution_count": 2,
   "metadata": {},
   "outputs": [],
   "source": [
    "try:\n",
    "    import common\n",
    "    DATA = common.dataDirectory()\n",
    "except ImportError:\n",
    "    DATA = Path().resolve() / 'data'"
   ]
  },
  {
   "cell_type": "code",
   "execution_count": 3,
   "metadata": {},
   "outputs": [],
   "source": [
    "LOAN3000_CSV = DATA / 'loan3000.csv'\n",
    "LOAN_DATA_CSV = DATA / 'loan_data.csv.gz'\n",
    "FULL_TRAIN_SET_CSV = DATA / 'full_train_set.csv.gz'"
   ]
  },
  {
   "cell_type": "code",
   "execution_count": 4,
   "metadata": {},
   "outputs": [
    {
     "data": {
      "text/plain": [
       "MultinomialNB(alpha=1e-10, fit_prior=False)"
      ]
     },
     "execution_count": 4,
     "metadata": {},
     "output_type": "execute_result"
    }
   ],
   "source": [
    "loan_data = pd.read_csv(LOAN_DATA_CSV)\n",
    "\n",
    "# convert to categorical\n",
    "loan_data.outcome = loan_data.outcome.astype('category')\n",
    "loan_data.outcome.cat.reorder_categories(['paid off', 'default'])\n",
    "loan_data.purpose_ = loan_data.purpose_.astype('category')\n",
    "loan_data.home_ = loan_data.home_.astype('category')\n",
    "loan_data.emp_len_ = loan_data.emp_len_.astype('category')\n",
    "\n",
    "predictors = ['purpose_', 'home_', 'emp_len_']\n",
    "outcome = 'outcome'\n",
    "X = pd.get_dummies(loan_data[predictors], prefix='', prefix_sep='', dtype=int)\n",
    "y = loan_data[outcome]\n",
    "\n",
    "naive_model = MultinomialNB(alpha=0.01, fit_prior=True)\n",
    "naive_model = MultinomialNB(alpha=1e-10, fit_prior=False)\n",
    "naive_model.fit(X, y)\n"
   ]
  },
  {
   "cell_type": "markdown",
   "metadata": {},
   "source": [
    "The model can be used to predict the outcome of a new loan. We use the last value of the data set for testing:"
   ]
  },
  {
   "cell_type": "code",
   "execution_count": 5,
   "metadata": {},
   "outputs": [
    {
     "name": "stdout",
     "output_type": "stream",
     "text": [
      "predicted class:  default\n",
      "predicted probabilities\n",
      "    default  paid off\n",
      "0  0.653699  0.346301\n"
     ]
    }
   ],
   "source": [
    "new_loan = X.loc[146:146, :]\n",
    "\n",
    "print('predicted class: ', naive_model.predict(new_loan)[0])\n",
    "\n",
    "probabilities = pd.DataFrame(naive_model.predict_proba(new_loan),\n",
    "                             columns=naive_model.classes_)\n",
    "print('predicted probabilities',)\n",
    "print(probabilities)"
   ]
  },
  {
   "cell_type": "markdown",
   "metadata": {},
   "source": [
    "The prediction also returns a posterior estimate of the probability of default. The naive Bayesian classifier is known to produce biased estimates. However, where the goal is to rank records according to the probability that Y = 1, unbiased estimates of probability are not needed, and naive Bayes produces good results."
   ]
  },
  {
   "cell_type": "markdown",
   "metadata": {},
   "source": [
    "### Numeric Predictor Variables\n",
    "\n",
    "To apply naive Bayes to numerical predictors, one of two approaches must be taken:\n",
    "\n",
    "- Bin and convert the numerical predictors to categorical predictors and apply the algorithm of the previous section.\n",
    "- Use a probability model—for example, the normal distribution —to estimate the conditional probability $P(X_j| Y = i)$."
   ]
  },
  {
   "cell_type": "markdown",
   "metadata": {},
   "source": [
    "## Discriminant Analysis\n",
    "\n",
    "Important key terms:\n",
    "- **Covariance**\n",
    "- **Discriminant function**\n",
    "- **Discriminant weights**"
   ]
  },
  {
   "cell_type": "markdown",
   "metadata": {},
   "source": [
    "### Covariance Matrix\n",
    "\n",
    "To understand discriminant analysis, it is first necessary to introduce the concept of covariance between two or more variables. The covariance measures the relationship between two variables x and z. Denote the mean for each variable by $\\bar{x}$ and $\\bar{z}$. The covariance $s_{x, z}$ between x and z is given by:\n",
    "\n",
    "$$\n",
    "s_{x, z} = \\frac{\\sum_{i=1}^n (x_i-\\bar{x})(z_i-\\bar{z})}{n-1}\n",
    "$$\n",
    "\n",
    "where n is the number of records.\n",
    "\n",
    "Positive values indicate a positive relationship and negative values indicate a negative relationship. Covariance scale depends on the scale of the variables x and z. The covariance matrix $\\sum$ for x and z consists of the individual variable variances, $s_x^2$ and $s_z^2$, on the diagonal (where row and column are the same variable) and the covariances between variable pairs on the off-diagonals:\n",
    "\n",
    "$$\n",
    "\\sum =\n",
    "\\begin{bmatrix}\n",
    "s_x^2& s_{x, z}\\\\\n",
    "s_{z, x}& s_z^2\n",
    "\\end{bmatrix}\n",
    "$$\n",
    "\n",
    "### Fisher's Linear Discriminant (A Simple Example)\n",
    "\n"
   ]
  },
  {
   "cell_type": "code",
   "execution_count": 6,
   "metadata": {},
   "outputs": [
    {
     "name": "stdout",
     "output_type": "stream",
     "text": [
      "                          0\n",
      "borrower_score     7.175839\n",
      "payment_inc_ratio -0.099676\n"
     ]
    }
   ],
   "source": [
    "loan3000 = pd.read_csv(LOAN3000_CSV)\n",
    "loan3000.outcome = loan3000.outcome.astype('category')\n",
    "\n",
    "predictors = ['borrower_score', 'payment_inc_ratio']\n",
    "outcome = 'outcome'\n",
    "\n",
    "X = loan3000[predictors]\n",
    "y = loan3000[outcome]\n",
    "\n",
    "loan_lda = LinearDiscriminantAnalysis()\n",
    "loan_lda.fit(X, y)\n",
    "print(pd.DataFrame(loan_lda.scalings_, index=X.columns))"
   ]
  },
  {
   "cell_type": "markdown",
   "metadata": {},
   "source": [
    "### Using Discriminant Analysis for Feature Selection\n",
    "If the predictor variables are normalized prior to running LDA, the discriminator weights are measures of variable importance, thus providing a computationally efficient method of feature selection."
   ]
  },
  {
   "cell_type": "code",
   "execution_count": 7,
   "metadata": {},
   "outputs": [
    {
     "name": "stdout",
     "output_type": "stream",
     "text": [
      "    default  paid off\n",
      "0  0.553544  0.446456\n",
      "1  0.558953  0.441047\n",
      "2  0.272696  0.727304\n",
      "3  0.506254  0.493746\n",
      "4  0.609952  0.390048\n"
     ]
    }
   ],
   "source": [
    "# The lda function can predict the probability of “default” versus “paid off ”:\n",
    "pred = pd.DataFrame(loan_lda.predict_proba(loan3000[predictors]),\n",
    "                    columns=loan_lda.classes_)\n",
    "print(pred.head())\n"
   ]
  },
  {
   "cell_type": "markdown",
   "metadata": {},
   "source": [
    "A plot of the predictions helps illustrate how LDA works. Using the output from the\n",
    "predict function, a plot of the estimated probability of default is produced as follows:"
   ]
  },
  {
   "cell_type": "code",
   "execution_count": 8,
   "metadata": {},
   "outputs": [
    {
     "data": {
      "text/html": [
       "<div>\n",
       "<style scoped>\n",
       "    .dataframe tbody tr th:only-of-type {\n",
       "        vertical-align: middle;\n",
       "    }\n",
       "\n",
       "    .dataframe tbody tr th {\n",
       "        vertical-align: top;\n",
       "    }\n",
       "\n",
       "    .dataframe thead th {\n",
       "        text-align: right;\n",
       "    }\n",
       "</style>\n",
       "<table border=\"1\" class=\"dataframe\">\n",
       "  <thead>\n",
       "    <tr style=\"text-align: right;\">\n",
       "      <th></th>\n",
       "      <th>Unnamed: 0</th>\n",
       "      <th>outcome</th>\n",
       "      <th>purpose_</th>\n",
       "      <th>dti</th>\n",
       "      <th>borrower_score</th>\n",
       "      <th>payment_inc_ratio</th>\n",
       "      <th>default</th>\n",
       "    </tr>\n",
       "  </thead>\n",
       "  <tbody>\n",
       "    <tr>\n",
       "      <th>0</th>\n",
       "      <td>32109</td>\n",
       "      <td>paid off</td>\n",
       "      <td>debt_consolidation</td>\n",
       "      <td>21.23</td>\n",
       "      <td>0.40</td>\n",
       "      <td>5.11135</td>\n",
       "      <td>0.553544</td>\n",
       "    </tr>\n",
       "    <tr>\n",
       "      <th>1</th>\n",
       "      <td>16982</td>\n",
       "      <td>default</td>\n",
       "      <td>credit_card</td>\n",
       "      <td>15.49</td>\n",
       "      <td>0.40</td>\n",
       "      <td>5.43165</td>\n",
       "      <td>0.558953</td>\n",
       "    </tr>\n",
       "    <tr>\n",
       "      <th>2</th>\n",
       "      <td>25335</td>\n",
       "      <td>paid off</td>\n",
       "      <td>debt_consolidation</td>\n",
       "      <td>27.30</td>\n",
       "      <td>0.70</td>\n",
       "      <td>9.23003</td>\n",
       "      <td>0.272696</td>\n",
       "    </tr>\n",
       "    <tr>\n",
       "      <th>3</th>\n",
       "      <td>34580</td>\n",
       "      <td>paid off</td>\n",
       "      <td>major_purchase</td>\n",
       "      <td>21.11</td>\n",
       "      <td>0.40</td>\n",
       "      <td>2.33482</td>\n",
       "      <td>0.506254</td>\n",
       "    </tr>\n",
       "    <tr>\n",
       "      <th>4</th>\n",
       "      <td>14424</td>\n",
       "      <td>default</td>\n",
       "      <td>debt_consolidation</td>\n",
       "      <td>16.46</td>\n",
       "      <td>0.45</td>\n",
       "      <td>12.10320</td>\n",
       "      <td>0.609952</td>\n",
       "    </tr>\n",
       "  </tbody>\n",
       "</table>\n",
       "</div>"
      ],
      "text/plain": [
       "   Unnamed: 0   outcome            purpose_    dti  borrower_score  \\\n",
       "0       32109  paid off  debt_consolidation  21.23            0.40   \n",
       "1       16982   default         credit_card  15.49            0.40   \n",
       "2       25335  paid off  debt_consolidation  27.30            0.70   \n",
       "3       34580  paid off      major_purchase  21.11            0.40   \n",
       "4       14424   default  debt_consolidation  16.46            0.45   \n",
       "\n",
       "   payment_inc_ratio   default  \n",
       "0            5.11135  0.553544  \n",
       "1            5.43165  0.558953  \n",
       "2            9.23003  0.272696  \n",
       "3            2.33482  0.506254  \n",
       "4           12.10320  0.609952  "
      ]
     },
     "execution_count": 8,
     "metadata": {},
     "output_type": "execute_result"
    }
   ],
   "source": [
    "# Use scalings and center of means to determine decision boundary\n",
    "center = np.mean(loan_lda.means_, axis=0)\n",
    "slope = - loan_lda.scalings_[0] / loan_lda.scalings_[1]\n",
    "intercept = center[1] - center[0] * slope\n",
    "\n",
    "# payment_inc_ratio for borrower_score of 0 and 20\n",
    "x_0 = (0 - intercept) / slope\n",
    "x_20 = (20 - intercept) / slope\n",
    "\n",
    "lda_df = pd.concat([loan3000, pred['default']], axis=1)\n",
    "lda_df.head()"
   ]
  },
  {
   "cell_type": "code",
   "execution_count": 9,
   "metadata": {},
   "outputs": [
    {
     "data": {
      "image/png": "[encoded data removed]",
      "text/plain": [
       "<Figure size 288x288 with 1 Axes>"
      ]
     },
     "metadata": {
      "needs_background": "light"
     },
     "output_type": "display_data"
    }
   ],
   "source": [
    "fig, ax = plt.subplots(figsize=(4, 4))\n",
    "g = sns.scatterplot(x='borrower_score', y='payment_inc_ratio',\n",
    "                    hue='default', data=lda_df, \n",
    "                    palette=sns.diverging_palette(240, 10, n=9, as_cmap=True),\n",
    "                    ax=ax, legend=False)\n",
    "\n",
    "ax.set_ylim(0, 20)\n",
    "ax.set_xlim(0.15, 0.8)\n",
    "ax.plot((x_0, x_20), (0, 20), linewidth=3)\n",
    "ax.plot(*loan_lda.means_.transpose())\n",
    "\n",
    "plt.tight_layout()\n",
    "plt.show()"
   ]
  },
  {
   "cell_type": "markdown",
   "metadata": {},
   "source": [
    "Using the discriminant function weights, LDA splits the predictor space into two regions, as shown by the solid line. The predictions farther away from the line in both directions have a higher level of confidence (i.e., a probability further away from 0.5)."
   ]
  },
  {
   "cell_type": "markdown",
   "metadata": {},
   "source": [
    "## Logistic Regression\n",
    "\n",
    "Important key terms:\n",
    "- **Logit**\n",
    "- **Odds**\n",
    "- **Log odds**\n",
    "\n",
    "### Logistic Response Function and Logit\n",
    "\n",
    "The key ingredients for logistic regression are the logistic response function and the logit, in which we map a probability (which is on a 0–1 scale) to a more expansive scale suitable for linear modeling.\n",
    "\n",
    "### Logistic Regression and the GLM\n",
    "\n",
    "The response in the logistic regression formula is the log odds of a binary outcome of 1. We observe only the binary outcome, not the log odds, so special statistical methods are needed to fit the equation. Logistic regression is a special instance of a generalized linear model (GLM) developed to extend linear regression to other settings."
   ]
  },
  {
   "cell_type": "code",
   "execution_count": 10,
   "metadata": {},
   "outputs": [
    {
     "data": {
      "image/png": "[encoded data removed]",
      "text/plain": [
       "<Figure size 216x216 with 1 Axes>"
      ]
     },
     "metadata": {
      "needs_background": "light"
     },
     "output_type": "display_data"
    }
   ],
   "source": [
    "p = np.arange(0.01, 1, 0.01)\n",
    "df = pd.DataFrame({\n",
    "    'p': p,\n",
    "    'logit': np.log(p / (1 - p)),\n",
    "    'odds': p / (1 - p),\n",
    "})\n",
    "\n",
    "fig, ax = plt.subplots(figsize=(3, 3))\n",
    "ax.axhline(0, color='grey', linestyle='--')\n",
    "ax.axvline(0.5, color='grey', linestyle='--')\n",
    "ax.plot(df['p'], df['logit'])\n",
    "ax.set_xlabel('Probability')\n",
    "ax.set_ylabel('logit(p)')\n",
    "\n",
    "plt.tight_layout()\n",
    "plt.show()"
   ]
  },
  {
   "cell_type": "code",
   "execution_count": 11,
   "metadata": {},
   "outputs": [
    {
     "name": "stdout",
     "output_type": "stream",
     "text": [
      "intercept  -1.6380884395576985\n",
      "classes ['default' 'paid off']\n"
     ]
    },
    {
     "data": {
      "text/html": [
       "<div>\n",
       "<style scoped>\n",
       "    .dataframe tbody tr th:only-of-type {\n",
       "        vertical-align: middle;\n",
       "    }\n",
       "\n",
       "    .dataframe tbody tr th {\n",
       "        vertical-align: top;\n",
       "    }\n",
       "\n",
       "    .dataframe thead th {\n",
       "        text-align: right;\n",
       "    }\n",
       "</style>\n",
       "<table border=\"1\" class=\"dataframe\">\n",
       "  <thead>\n",
       "    <tr style=\"text-align: right;\">\n",
       "      <th></th>\n",
       "      <th>coeff</th>\n",
       "    </tr>\n",
       "  </thead>\n",
       "  <tbody>\n",
       "    <tr>\n",
       "      <th>payment_inc_ratio</th>\n",
       "      <td>-0.079728</td>\n",
       "    </tr>\n",
       "    <tr>\n",
       "      <th>borrower_score</th>\n",
       "      <td>4.611037</td>\n",
       "    </tr>\n",
       "    <tr>\n",
       "      <th>debt_consolidation</th>\n",
       "      <td>-0.249342</td>\n",
       "    </tr>\n",
       "    <tr>\n",
       "      <th>home_improvement</th>\n",
       "      <td>-0.407614</td>\n",
       "    </tr>\n",
       "    <tr>\n",
       "      <th>major_purchase</th>\n",
       "      <td>-0.229376</td>\n",
       "    </tr>\n",
       "    <tr>\n",
       "      <th>medical</th>\n",
       "      <td>-0.510087</td>\n",
       "    </tr>\n",
       "    <tr>\n",
       "      <th>other</th>\n",
       "      <td>-0.620534</td>\n",
       "    </tr>\n",
       "    <tr>\n",
       "      <th>small_business</th>\n",
       "      <td>-1.215662</td>\n",
       "    </tr>\n",
       "    <tr>\n",
       "      <th>OWN</th>\n",
       "      <td>-0.048453</td>\n",
       "    </tr>\n",
       "    <tr>\n",
       "      <th>RENT</th>\n",
       "      <td>-0.157355</td>\n",
       "    </tr>\n",
       "    <tr>\n",
       "      <th>&gt; 1 Year</th>\n",
       "      <td>0.357463</td>\n",
       "    </tr>\n",
       "  </tbody>\n",
       "</table>\n",
       "</div>"
      ],
      "text/plain": [
       "                       coeff\n",
       "payment_inc_ratio  -0.079728\n",
       "borrower_score      4.611037\n",
       "debt_consolidation -0.249342\n",
       "home_improvement   -0.407614\n",
       "major_purchase     -0.229376\n",
       "medical            -0.510087\n",
       "other              -0.620534\n",
       "small_business     -1.215662\n",
       "OWN                -0.048453\n",
       "RENT               -0.157355\n",
       " > 1 Year           0.357463"
      ]
     },
     "execution_count": 11,
     "metadata": {},
     "output_type": "execute_result"
    }
   ],
   "source": [
    "\n",
    "predictors = ['payment_inc_ratio', 'purpose_', 'home_', 'emp_len_', \n",
    "              'borrower_score']\n",
    "outcome = 'outcome'\n",
    "X = pd.get_dummies(loan_data[predictors], prefix='', prefix_sep='', \n",
    "                   drop_first=True, dtype=int)\n",
    "y = loan_data[outcome] # .cat.categories\n",
    "\n",
    "logit_reg = LogisticRegression(penalty='l2', C=1e42, solver='liblinear')\n",
    "logit_reg.fit(X, y)\n",
    "\n",
    "print('intercept ', logit_reg.intercept_[0])\n",
    "print('classes', logit_reg.classes_)\n",
    "pd.DataFrame({'coeff': logit_reg.coef_[0]}, \n",
    "             index=X.columns)"
   ]
  },
  {
   "cell_type": "code",
   "execution_count": 12,
   "metadata": {},
   "outputs": [
    {
     "name": "stdout",
     "output_type": "stream",
     "text": [
      "Index(['credit_card', 'debt_consolidation', 'home_improvement',\n",
      "       'major_purchase', 'medical', 'other', 'small_business'],\n",
      "      dtype='object')\n",
      "Index(['MORTGAGE', 'OWN', 'RENT'], dtype='object')\n",
      "Index([' < 1 Year', ' > 1 Year'], dtype='object')\n"
     ]
    }
   ],
   "source": [
    "# Note that the intercept and coefficients are reversed compared to the R model.\n",
    "print(loan_data['purpose_'].cat.categories)\n",
    "print(loan_data['home_'].cat.categories)\n",
    "print(loan_data['emp_len_'].cat.categories)"
   ]
  },
  {
   "cell_type": "code",
   "execution_count": 13,
   "metadata": {},
   "outputs": [
    {
     "name": "stdout",
     "output_type": "stream",
     "text": [
      "intercept  1.638088492616834\n",
      "classes [0. 1.]\n"
     ]
    },
    {
     "data": {
      "text/html": [
       "<div>\n",
       "<style scoped>\n",
       "    .dataframe tbody tr th:only-of-type {\n",
       "        vertical-align: middle;\n",
       "    }\n",
       "\n",
       "    .dataframe tbody tr th {\n",
       "        vertical-align: top;\n",
       "    }\n",
       "\n",
       "    .dataframe thead th {\n",
       "        text-align: right;\n",
       "    }\n",
       "</style>\n",
       "<table border=\"1\" class=\"dataframe\">\n",
       "  <thead>\n",
       "    <tr style=\"text-align: right;\">\n",
       "      <th></th>\n",
       "      <th>coeff</th>\n",
       "    </tr>\n",
       "  </thead>\n",
       "  <tbody>\n",
       "    <tr>\n",
       "      <th>payment_inc_ratio</th>\n",
       "      <td>0.079728</td>\n",
       "    </tr>\n",
       "    <tr>\n",
       "      <th>borrower_score</th>\n",
       "      <td>-4.611037</td>\n",
       "    </tr>\n",
       "    <tr>\n",
       "      <th>debt_consolidation</th>\n",
       "      <td>0.249342</td>\n",
       "    </tr>\n",
       "    <tr>\n",
       "      <th>home_improvement</th>\n",
       "      <td>0.407614</td>\n",
       "    </tr>\n",
       "    <tr>\n",
       "      <th>major_purchase</th>\n",
       "      <td>0.229376</td>\n",
       "    </tr>\n",
       "    <tr>\n",
       "      <th>medical</th>\n",
       "      <td>0.510087</td>\n",
       "    </tr>\n",
       "    <tr>\n",
       "      <th>other</th>\n",
       "      <td>0.620534</td>\n",
       "    </tr>\n",
       "    <tr>\n",
       "      <th>small_business</th>\n",
       "      <td>1.215662</td>\n",
       "    </tr>\n",
       "    <tr>\n",
       "      <th>OWN</th>\n",
       "      <td>0.048453</td>\n",
       "    </tr>\n",
       "    <tr>\n",
       "      <th>RENT</th>\n",
       "      <td>0.157355</td>\n",
       "    </tr>\n",
       "    <tr>\n",
       "      <th>&gt; 1 Year</th>\n",
       "      <td>-0.357463</td>\n",
       "    </tr>\n",
       "  </tbody>\n",
       "</table>\n",
       "</div>"
      ],
      "text/plain": [
       "                       coeff\n",
       "payment_inc_ratio   0.079728\n",
       "borrower_score     -4.611037\n",
       "debt_consolidation  0.249342\n",
       "home_improvement    0.407614\n",
       "major_purchase      0.229376\n",
       "medical             0.510087\n",
       "other               0.620534\n",
       "small_business      1.215662\n",
       "OWN                 0.048453\n",
       "RENT                0.157355\n",
       " > 1 Year          -0.357463"
      ]
     },
     "execution_count": 13,
     "metadata": {},
     "output_type": "execute_result"
    }
   ],
   "source": [
    "# This reverses the order of the predicted classes and as a consequence, the coefficients will be reversed.\n",
    "\n",
    "from sklearn.preprocessing import OrdinalEncoder\n",
    "enc = OrdinalEncoder(categories=[['paid off', 'default']])\n",
    "y_enc = enc.fit_transform(loan_data[[outcome]]).ravel()\n",
    "\n",
    "logit_reg_enc = LogisticRegression(penalty=\"l2\", C=1e42, solver='liblinear')\n",
    "logit_reg_enc.fit(X, y_enc)\n",
    "\n",
    "print('intercept ', logit_reg_enc.intercept_[0])\n",
    "print('classes', logit_reg_enc.classes_)\n",
    "pd.DataFrame({'coeff': logit_reg_enc.coef_[0]}, \n",
    "             index=X.columns)"
   ]
  },
  {
   "cell_type": "markdown",
   "metadata": {},
   "source": [
    "### Generalized Linear Models\n",
    "\n",
    "Generalized linear models (GLMs) are characterized by two main components:\n",
    "- A probability distribution or family (binomial in the case of logistic regression)\n",
    "- A link function—i.e., a transformation function that maps the response to the\n",
    "predictors (logit in the case of logistic regression)\n",
    "\n",
    "Logistic regression is by far the most common form of GLM. A data scientist will\n",
    "encounter other types of GLMs. Sometimes a log link function is used instead of the\n",
    "logit; in practice, use of a log link is unlikely to lead to very different results for most\n",
    "applications. The Poisson distribution is commonly used to model count data (e.g.,\n",
    "the number of times a user visits a web page in a certain amount of time). Other fam‐\n",
    "ilies include negative binomial and gamma, often used to model elapsed time (e.g.,\n",
    "time to failure). In contrast to logistic regression, application of GLMs with these\n",
    "models is more nuanced and involves greater care. These are best avoided unless you\n",
    "are familiar with and understand the utility and pitfalls of these methods."
   ]
  },
  {
   "cell_type": "markdown",
   "metadata": {},
   "source": [
    "### Predicted Values from Logistic Regression\n",
    "\n",
    "The predicted value from logistic regression is in terms of the log odds:\n",
    "$\\hat{Y} = \\log (Odds(Y = 1)) $. The predicted probability is given by the logistic response\n",
    "function:\n",
    "\n",
    "$$\n",
    "\\hat{p} = \\frac{1}{1+e^{-\\hat{Y}}}\n",
    "$$"
   ]
  },
  {
   "cell_type": "code",
   "execution_count": 16,
   "metadata": {},
   "outputs": [
    {
     "name": "stdout",
     "output_type": "stream",
     "text": [
      "            default      paid off\n",
      "count  45342.000000  45342.000000\n",
      "mean      -0.757850     -0.760423\n",
      "std        0.378032      0.390419\n",
      "min       -2.768873     -3.538864\n",
      "25%       -0.985728     -0.977164\n",
      "50%       -0.697366     -0.688946\n",
      "75%       -0.472209     -0.467076\n",
      "max       -0.029476     -0.064787\n"
     ]
    }
   ],
   "source": [
    "\n",
    "pred = pd.DataFrame(logit_reg.predict_log_proba(X),\n",
    "                    columns=logit_reg.classes_)\n",
    "print(pred.describe())"
   ]
  },
  {
   "cell_type": "code",
   "execution_count": 17,
   "metadata": {},
   "outputs": [
    {
     "name": "stdout",
     "output_type": "stream",
     "text": [
      "            default      paid off\n",
      "count  45342.000000  45342.000000\n",
      "mean       0.500001      0.499999\n",
      "std        0.167336      0.167336\n",
      "min        0.062733      0.029046\n",
      "25%        0.373167      0.376377\n",
      "50%        0.497895      0.502105\n",
      "75%        0.623623      0.626833\n",
      "max        0.970954      0.937267\n"
     ]
    }
   ],
   "source": [
    "pred = pd.DataFrame(logit_reg.predict_proba(X),\n",
    "                    columns=logit_reg.classes_)\n",
    "print(pred.describe())"
   ]
  },
  {
   "cell_type": "markdown",
   "metadata": {},
   "source": [
    "### Interpreting the Coefficients and Odds Ratios\n",
    "\n",
    "One advantage of logistic regression is that it produces a model that can be scored to\n",
    "new data rapidly, without recomputation. Another is the relative ease of interpreta‐\n",
    "tion of the model, as compared with other classification methods. The key conceptual\n",
    "idea is understanding an odds ratio. The odds ratio is easiest to understand for a\n",
    "binary factor variable X:\n",
    "\n",
    "$$\n",
    "\\text{odds ratio} = \\frac{Odds(Y=1|X=1)}{Odds(Y=1|X=0)}\n",
    "$$\n",
    "\n",
    "This is interpreted as the odds that Y = 1 when X = 1 versus the odds that Y = 1 when\n",
    "X = 0. If the odds ratio is 2, then the odds that Y = 1 are two times higher when X = 1\n",
    "versus when X = 0.\n",
    "\n",
    "Why bother with an odds ratio rather than probabilities? We work with odds because\n",
    "the coefficient $\\beta_j$ in the logistic regression is the log of the odds ratio for $X_j$.\n",
    "\n",
    "An example will make this more explicit. The regression coefficient for `purpose_small_business` is\n",
    "1.21526. This means that a loan to a small business compared to a loan to pay off\n",
    "credit card debt reduces the odds of defaulting versus being paid off by\n",
    "$e^1.21526 \\approx 3.4$. Clearly, loans for the purpose of creating or expanding a small\n",
    "business are considerably riskier than other types of loans."
   ]
  },
  {
   "cell_type": "code",
   "execution_count": 18,
   "metadata": {},
   "outputs": [
    {
     "data": {
      "image/png": "[encoded data removed]",
      "text/plain": [
       "<Figure size 216x216 with 1 Axes>"
      ]
     },
     "metadata": {
      "needs_background": "light"
     },
     "output_type": "display_data"
    }
   ],
   "source": [
    "fig, ax = plt.subplots(figsize=(3, 3))\n",
    "ax.plot(df['logit'], df['odds'])\n",
    "ax.set_xlabel('log(odds ratio)')\n",
    "ax.set_ylabel('odds ratio')\n",
    "ax.set_xlim(0, 5.1)\n",
    "ax.set_ylim(-5, 105)\n",
    "\n",
    "plt.tight_layout()\n",
    "plt.show()"
   ]
  },
  {
   "cell_type": "markdown",
   "metadata": {},
   "source": [
    "Odds ratios for numeric variables X can be interpreted similarly: they measure the\n",
    "change in the odds ratio for a unit change in X. \n",
    "\n",
    "For example, the effect of increasing the payment-to-income ratio from, say, 5 to 6 increases the odds of the loan defaulting by a factor of $exp(0.08244) \\approx 1.09$. The variable `borrower_score` is a score on the borrowers’ creditworthiness and ranges from 0 (low) to 1 (high). The odds of the best\n",
    "borrowers relative to the worst borrowers defaulting on their loans is smaller by a\n",
    "factor of $exp(− 4.61264) \\approx 0.01$. \n",
    "\n",
    "In other words, the default risk from the borrowers with the poorest creditworthiness is 100 times greater than that of the best borrowers!"
   ]
  },
  {
   "cell_type": "markdown",
   "metadata": {},
   "source": [
    "### Linear and Logistic Regression: Similarities and Differences\n",
    "\n",
    "Linear regression and logistic regression share many commonalities. Both assume a\n",
    "parametric linear form relating the predictors with the response. Exploring and find‐\n",
    "ing the best model are done in very similar ways. Extensions to the linear model, like\n",
    "the use of a spline transform of a predictor, are equally\n",
    "applicable in the logistic regression setting. Logistic regression differs in two funda‐\n",
    "mental ways:\n",
    "\n",
    "- The way the model is fit (least squares is not applicable)\n",
    "- The nature and analysis of the residuals from the model\n",
    "\n",
    "#### Fitting the model\n",
    "\n",
    "The model must be fit using maximum likelihood\n",
    "estimation (MLE). Maximum likelihood estimation is a process that tries to find the\n",
    "model that is most likely to have produced the data we see. \n",
    "\n",
    "### Maximum Likelihood Estimation\n",
    "\n",
    "Here is a bit more detail, if you like statistical symbols: start with a set of data $(X_1, X_2,...,X_n)$ and a probability model $P_\\theta (X_1, X_2,...,X_n)$ that depends on a set of\n",
    "parameters $\\theta$.  The goal of MLE is to find the set of parameters $\\hat{\\theta}$ that maximizes the value of $P_\\theta (X_1, X_2,...,X_n)$; that is, it maximizes the probability of observing $(X_1, X_2,...,X_n)$ given the model P. In the fitting process, the model is evaluated using\n",
    "a metric called deviance:\n",
    "\n",
    "$$\n",
    "\\text{deviance} = -2\\log \\left(P_\\theta (X_1, X_2,...,X_n) \\right)\n",
    "$$\n",
    "\n",
    "Lower deviance corresponds to a better fit."
   ]
  },
  {
   "cell_type": "markdown",
   "metadata": {},
   "source": [
    "### Assessing the Model\n",
    "\n",
    "Like other classification methods, logistic regression is assessed by how accurately the\n",
    "model classifies new data. As\n",
    "with linear regression, some additional standard statistical tools are available to\n",
    "examine and improve the model. Along with the estimated coefficients, R reports the\n",
    "standard error of the coefficients (SE), a z-value, and a p-value:"
   ]
  },
  {
   "cell_type": "code",
   "execution_count": 20,
   "metadata": {},
   "outputs": [
    {
     "name": "stdout",
     "output_type": "stream",
     "text": [
      "                 Generalized Linear Model Regression Results                  \n",
      "==============================================================================\n",
      "Dep. Variable:                      y   No. Observations:                45342\n",
      "Model:                            GLM   Df Residuals:                    45330\n",
      "Model Family:                Binomial   Df Model:                           11\n",
      "Link Function:                  Logit   Scale:                          1.0000\n",
      "Method:                          IRLS   Log-Likelihood:                -28757.\n",
      "Date:                Thu, 29 Aug 2024   Deviance:                       57515.\n",
      "Time:                        21:26:40   Pearson chi2:                 4.54e+04\n",
      "No. Iterations:                     4   Pseudo R-squ. (CS):             0.1112\n",
      "Covariance Type:            nonrobust                                         \n",
      "======================================================================================\n",
      "                         coef    std err          z      P>|z|      [0.025      0.975]\n",
      "--------------------------------------------------------------------------------------\n",
      "payment_inc_ratio      0.0797      0.002     32.058      0.000       0.075       0.085\n",
      "borrower_score        -4.6126      0.084    -55.203      0.000      -4.776      -4.449\n",
      "debt_consolidation     0.2494      0.028      9.030      0.000       0.195       0.303\n",
      "home_improvement       0.4077      0.047      8.747      0.000       0.316       0.499\n",
      "major_purchase         0.2296      0.054      4.277      0.000       0.124       0.335\n",
      "medical                0.5105      0.087      5.882      0.000       0.340       0.681\n",
      "other                  0.6207      0.039     15.738      0.000       0.543       0.698\n",
      "small_business         1.2153      0.063     19.192      0.000       1.091       1.339\n",
      "OWN                    0.0483      0.038      1.271      0.204      -0.026       0.123\n",
      "RENT                   0.1573      0.021      7.420      0.000       0.116       0.199\n",
      " > 1 Year             -0.3567      0.053     -6.779      0.000      -0.460      -0.254\n",
      "const                  1.6381      0.074     22.224      0.000       1.494       1.783\n",
      "======================================================================================\n"
     ]
    }
   ],
   "source": [
    "# use GLM (general linear model) with the binomial family to \n",
    "# fit a logistic regression\n",
    "y_numbers = [1 if yi == 'default' else 0 for yi in y]\n",
    "logit_reg_sm = sm.GLM(y_numbers, X.assign(const=1), \n",
    "                      family=sm.families.Binomial())\n",
    "logit_result = logit_reg_sm.fit()\n",
    "print(logit_result.summary())"
   ]
  },
  {
   "cell_type": "markdown",
   "metadata": {},
   "source": [
    "Interpretation of the p-value comes with the same caveat as in regression and should\n",
    "be viewed more as a relative indicator of variable importance than as a formal measure of statistical significance. A logistic regression model, which has a binary response, does not have an associated RMSE or R-squared. Instead, a logistic regression model is typically evaluated using more general metrics for classification; Many other concepts for linear regression carry over to the logistic regression setting (and other GLMs). For example, you can use stepwise regression, fit interaction\n",
    "terms, or include spline terms. The same concerns regarding confounding and correlated variables apply to logistic regression"
   ]
  },
  {
   "cell_type": "code",
   "execution_count": 21,
   "metadata": {},
   "outputs": [
    {
     "name": "stdout",
     "output_type": "stream",
     "text": [
      "                             Generalized Linear Model Regression Results                             \n",
      "=====================================================================================================\n",
      "Dep. Variable:     ['outcome[default]', 'outcome[paid off]']   No. Observations:                45342\n",
      "Model:                                                   GLM   Df Residuals:                    45321\n",
      "Model Family:                                       Binomial   Df Model:                           20\n",
      "Link Function:                                         Logit   Scale:                          1.0000\n",
      "Method:                                                 IRLS   Log-Likelihood:                -28731.\n",
      "Date:                                       Thu, 29 Aug 2024   Deviance:                       57462.\n",
      "Time:                                               21:30:53   Pearson chi2:                 4.54e+04\n",
      "No. Iterations:                                            6   Pseudo R-squ. (CS):             0.1122\n",
      "Covariance Type:                                   nonrobust                                         \n",
      "==================================================================================================\n",
      "                                     coef    std err          z      P>|z|      [0.025      0.975]\n",
      "--------------------------------------------------------------------------------------------------\n",
      "Intercept                          1.5756      0.331      4.765      0.000       0.928       2.224\n",
      "purpose_[T.debt_consolidation]     0.2486      0.028      8.998      0.000       0.194       0.303\n",
      "purpose_[T.home_improvement]       0.4097      0.047      8.757      0.000       0.318       0.501\n",
      "purpose_[T.major_purchase]         0.2382      0.054      4.416      0.000       0.132       0.344\n",
      "purpose_[T.medical]                0.5206      0.087      5.980      0.000       0.350       0.691\n",
      "purpose_[T.other]                  0.6284      0.040     15.781      0.000       0.550       0.706\n",
      "purpose_[T.small_business]         1.2250      0.063     19.305      0.000       1.101       1.349\n",
      "home_[T.OWN]                       0.0498      0.038      1.309      0.191      -0.025       0.124\n",
      "home_[T.RENT]                      0.1577      0.021      7.431      0.000       0.116       0.199\n",
      "emp_len_[T. > 1 Year]             -0.3526      0.053     -6.699      0.000      -0.456      -0.249\n",
      "bs(payment_inc_ratio, df=8)[0]     0.7042      0.342      2.060      0.039       0.034       1.374\n",
      "bs(payment_inc_ratio, df=8)[1]     0.6621      0.198      3.351      0.001       0.275       1.049\n",
      "bs(payment_inc_ratio, df=8)[2]     0.8118      0.245      3.309      0.001       0.331       1.293\n",
      "bs(payment_inc_ratio, df=8)[3]     1.0377      0.223      4.644      0.000       0.600       1.476\n",
      "bs(payment_inc_ratio, df=8)[4]     1.1901      0.233      5.112      0.000       0.734       1.646\n",
      "bs(payment_inc_ratio, df=8)[5]     2.8404      0.316      8.980      0.000       2.220       3.460\n",
      "bs(payment_inc_ratio, df=8)[6]    -1.3427      1.229     -1.092      0.275      -3.752       1.067\n",
      "bs(payment_inc_ratio, df=8)[7]     7.1094      6.393      1.112      0.266      -5.420      19.639\n",
      "bs(borrower_score, df=3)[0]       -2.9011      0.533     -5.448      0.000      -3.945      -1.857\n",
      "bs(borrower_score, df=3)[1]       -2.6056      0.196    -13.284      0.000      -2.990      -2.221\n",
      "bs(borrower_score, df=3)[2]       -5.7421      0.508    -11.313      0.000      -6.737      -4.747\n",
      "==================================================================================================\n"
     ]
    }
   ],
   "source": [
    "import statsmodels.formula.api as smf\n",
    "formula = ('outcome ~ bs(payment_inc_ratio, df=8) + purpose_ + ' +\n",
    "           'home_ + emp_len_ + bs(borrower_score, df=3)')\n",
    "model = smf.glm(formula=formula, data=loan_data, family=sm.families.Binomial())\n",
    "results = model.fit()\n",
    "print(results.summary())"
   ]
  },
  {
   "cell_type": "code",
   "execution_count": 22,
   "metadata": {},
   "outputs": [
    {
     "data": {
      "image/png": "[encoded data removed]",
      "text/plain": [
       "<Figure size 360x360 with 1 Axes>"
      ]
     },
     "metadata": {
      "needs_background": "light"
     },
     "output_type": "display_data"
    }
   ],
   "source": [
    "# Analysis of residuals\n",
    "from statsmodels.genmod.generalized_linear_model import GLMResults\n",
    "def partialResidualPlot(model, df, outcome, feature, fig, ax):\n",
    "    y_actual = [0 if s == 'default' else 1 for s in df[outcome]]\n",
    "    y_pred = model.predict(df)\n",
    "    org_params = model.params.copy()\n",
    "    zero_params = model.params.copy()\n",
    "    # set model parametes of other features to 0\n",
    "    for i, name in enumerate(zero_params.index):\n",
    "        if feature in name:\n",
    "            continue\n",
    "        zero_params[i] = 0.0\n",
    "    model.initialize(model.model, zero_params)\n",
    "    feature_prediction = model.predict(df)\n",
    "    ypartial = -np.log(1/feature_prediction - 1)\n",
    "    ypartial = ypartial - np.mean(ypartial)\n",
    "    model.initialize(model.model, org_params)\n",
    "    results = pd.DataFrame({\n",
    "        'feature': df[feature],\n",
    "        'residual': -2 * (y_actual - y_pred),\n",
    "        'ypartial': ypartial/ 2,\n",
    "    })\n",
    "    results = results.sort_values(by=['feature'])\n",
    "\n",
    "    ax.scatter(results.feature, results.residual, marker=\".\", s=72./fig.dpi)\n",
    "    ax.plot(results.feature, results.ypartial, color='black')\n",
    "    ax.set_xlabel(feature)\n",
    "    ax.set_ylabel(f'Residual + {feature} contribution')\n",
    "    return ax\n",
    "\n",
    "fig, ax = plt.subplots(figsize=(5, 5))\n",
    "partialResidualPlot(results, loan_data, 'outcome', 'payment_inc_ratio', fig, ax)\n",
    "ax.set_xlim(0, 25)\n",
    "ax.set_ylim(-2.5, 2.5)\n",
    "\n",
    "\n",
    "plt.tight_layout()\n",
    "plt.show()"
   ]
  },
  {
   "cell_type": "markdown",
   "metadata": {},
   "source": [
    "## Evaluating Classication Models\n",
    "\n",
    "It is common in predictive modeling to train a number of different models, apply each to a holdout sample, and assess their performance. Sometimes, after a number of models have been evaluated and tuned, and if there are enough data, a third holdout sample, not used previously, is used to estimate how the chosen model will perform with completely new data. Different disciplines and practitioners will also use the terms validation and test to refer to the holdout sample(s). Fundamentally, the assessment process attempts to learn which model produces the most accurate and useful predictions.\n",
    "\n",
    "Important key terms:\n",
    "- **Accuracy**\n",
    "- **Confusion matrix**\n",
    "- **Sensitivity**\n",
    "- **Specificity**\n",
    "- **Precision**\n",
    "- **ROC curve**\n",
    "- **Lift**"
   ]
  },
  {
   "cell_type": "markdown",
   "metadata": {},
   "source": [
    "### Confusion Matrix"
   ]
  },
  {
   "cell_type": "code",
   "execution_count": 23,
   "metadata": {},
   "outputs": [
    {
     "name": "stdout",
     "output_type": "stream",
     "text": [
      "              Yhat = default  Yhat = paid off\n",
      "Y = default            14336             8335\n",
      "Y = paid off            8148            14523\n"
     ]
    }
   ],
   "source": [
    "# Confusion matrix\n",
    "pred = logit_reg.predict(X)\n",
    "pred_y = logit_reg.predict(X) == 'default'\n",
    "true_y = y == 'default'\n",
    "true_pos = true_y & pred_y\n",
    "true_neg = ~true_y & ~pred_y\n",
    "false_pos = ~true_y & pred_y\n",
    "false_neg = true_y & ~pred_y\n",
    "\n",
    "conf_mat = pd.DataFrame([[np.sum(true_pos), np.sum(false_neg)], [np.sum(false_pos), np.sum(true_neg)]],\n",
    "                       index=['Y = default', 'Y = paid off'],\n",
    "                       columns=['Yhat = default', 'Yhat = paid off'])\n",
    "print(conf_mat)"
   ]
  },
  {
   "cell_type": "code",
   "execution_count": 24,
   "metadata": {},
   "outputs": [
    {
     "name": "stdout",
     "output_type": "stream",
     "text": [
      "[[14336  8335]\n",
      " [ 8148 14523]]\n"
     ]
    }
   ],
   "source": [
    "print(confusion_matrix(y, logit_reg.predict(X)))"
   ]
  },
  {
   "cell_type": "code",
   "execution_count": null,
   "metadata": {},
   "outputs": [],
   "source": []
  }
 ],
 "metadata": {
  "kernelspec": {
   "display_name": "Python 3",
   "language": "python",
   "name": "python3"
  },
  "language_info": {
   "codemirror_mode": {
    "name": "ipython",
    "version": 3
   },
   "file_extension": ".py",
   "mimetype": "text/x-python",
   "name": "python",
   "nbconvert_exporter": "python",
   "pygments_lexer": "ipython3",
   "version": "3.7.0"
  }
 },
 "nbformat": 4,
 "nbformat_minor": 2
}
