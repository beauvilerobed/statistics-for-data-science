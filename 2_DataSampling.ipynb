{
 "cells": [
  {
   "cell_type": "markdown",
   "metadata": {},
   "source": [
    "# Data and Sampling Distribution\n",
    "\n",
    "Note: In general Data Scientist need not worry about the theoretical nature of a population and instead should focus on the sampling procedures and the data at hand. There are some notable exceptions: data that is generated from physical processes can be modeled. For example a coin flip: this follows a binomial distribution. Any real-life binomial situation(buy or don't buy, fraud or no fraud, click or don't click) can be modeled effectively by a coin(with modified probability of landing heads).\n",
    "\n",
    "## Content\n",
    "- **Random Sampling and Sample Bias**\n",
    "- **Selection Bias**\n",
    "- **Sampling Distribution of a Statistic**\n",
    "    - Plotting histogram of annual income of loan applicants, mean of 5 applicants, mean of 20 applicants\n",
    "- **The Bootstrap**\n",
    "    - Compute boostrap statistics (bias and standard deviation)\n",
    "- **Confidence Intervals**\n",
    "- **Normal Distribution**\n",
    "    - Plotting QQ-Plot of a sample of 100 values drawn from a standard normal distribution\n",
    "- **Long-Tailed Distribution**\n",
    "    - Plotting QQ-Plot of the returns for Netflix(NFLX)\n",
    "- **Student's t-Distribution**\n",
    "- **Binomial Distribution**\n",
    "    - Compute binomial PMF and CDF of observing 0 sales in 200 clicks with p = .02\n",
    "- **Chi-Square Distribution**\n",
    "- **F-Distribution**\n",
    "- **Poisson and Related Distributions**\n",
    "    - Simulationg and plotting poisson distribution\n",
    "    - Simulationg and plotting exponential distribution\n",
    "    - Simulationg and plotting weibull distribution\n",
    "\n"
   ]
  },
  {
   "cell_type": "code",
   "execution_count": 15,
   "metadata": {},
   "outputs": [],
   "source": [
    "import pandas as pd\n",
    "import numpy as np\n",
    "import seaborn as sns\n",
    "from scipy import stats\n",
    "from sklearn.utils import resample\n",
    "import matplotlib.pyplot as plt"
   ]
  },
  {
   "cell_type": "code",
   "execution_count": 16,
   "metadata": {},
   "outputs": [
    {
     "data": {
      "image/png": "[encoded data removed]",
      "text/plain": [
       "<Figure size 432x288 with 2 Axes>"
      ]
     },
     "metadata": {
      "needs_background": "light"
     },
     "output_type": "display_data"
    }
   ],
   "source": [
    "np.random.seed(seed=1)\n",
    "x = np.linspace(-3, 3, 300)\n",
    "xsample = stats.norm.rvs(size=1000)\n",
    "\n",
    "fig, axes = plt.subplots(ncols=2)\n",
    "\n",
    "ax = axes[0]\n",
    "ax.fill(x, stats.norm.pdf(x))\n",
    "ax.set_xlim(-3, 3)\n",
    "\n",
    "ax = axes[1]\n",
    "ax.hist(xsample, bins=30)\n",
    "ax.set_xlim(-3, 3)\n",
    "ax.set_position\n",
    "\n",
    "plt.show()"
   ]
  },
  {
   "cell_type": "markdown",
   "metadata": {},
   "source": [
    "## Random Sampling and Sample Bias\n",
    "\n",
    "Important key terms: \n",
    "- **Sample**\n",
    "- **Population**\n",
    "- **N(n)**\n",
    "- **Random and stratisfied sampling**\n",
    "- **Stratum**\n",
    "- **Simple random sample**\n",
    "- **Bias**\n",
    "- **Sample bias**\n",
    "\n",
    "Data quality is often greater than data quantity when making estimates or models based on a sample. In data science this means **completeness, consistency of format, cleaniness, and accuracy of data points**. Statistics add the notion of **representativeness**. \n",
    "\n",
    "Classic example: Literary Digest poll of 1963 that predicted a victory of Alf Landon over Franklin Roosevelt: they polled the subscribers plus additional lists of people, totaling 10 million people. George Gallup biweekly polls of just 2000 people and accuratly predicted a Roosevelt victory. \n",
    "\n",
    "The Literary Digest opted for quantity, paying little attention to the method of selection. They ended up polling those with relatively high socioeconomic status (their own subscribers, plus those who, by virtue of owning luxuries like telephones and automobiles, appeared in marketers’ lists). The result was *sample bias*; that is, the sample was different in some meaningful and *nonrandom* way from the larger population it was meant to represent.\n",
    "\n",
    "To avoid the problem of sample bias that led the Literary Digest to predict Landon over Roosevelt, George Gallup opted for more scientifically chosen methods to achieve a sample that was representative of the US voting electorate. There are now a variety of methods to achieve representativeness, but at the heart of all of them lies random sampling.\n",
    "\n",
    "### Size Versus Quality: When Does Size Matter?\n",
    "\n",
    "A classic scenario when size matter is when the data is not only big but sparse as well. For example search queries recieved by Google. There are over 150,000 words and Google processes trillions of queries a day, leading to a matrices mostly made of zeros.\n",
    "\n",
    "### Sample Mean Versus Population Mean\n",
    "\n",
    "The symbol $\\bar{x}$ (pronounced “x-bar”) is used to represent the mean of a sample from a population, whereas $\\mu$ is used to represent the mean of a population. Why make the distinction? Information about samples is observed, and information about large populations is often inferred from smaller samples. Statisticians like to keep the two things separate in the symbology.\n",
    "\n",
    "## Selection Bias\n",
    "\n",
    "Important key terms: \n",
    "- **Selection bias**(cherry picking, time intervals, stopping experiments, regression to the mean)\n",
    "- **Data snooping** (tossing coin 10 times vs. 20 people tossing coin 10 times)\n",
    "- **Vast search effect**\n",
    "- **Regression to the Mean** (e.g. “rookie of the year, sophomore slump” phenomenon, skill and luck then no luck only skill)\n",
    "\n",
    "In data science, selection bias is something to worry about when you repeatly review a large data set. Using a holdout set or more than one to validate performance. Also, the use of what we calls *target shuffling* (a permutation test, in essence) to test the validity of predictive associations that a data mining model suggests.\n",
    "\n",
    "## Sampling Distribution of a Statistic\n",
    "Important key terms: \n",
    "- **Sample statistic**\n",
    "- **Data and sample distribution**\n",
    "- **Central limit theorem**\n",
    "- **Standard error**(variability of a sample statistic over many samples)"
   ]
  },
  {
   "cell_type": "markdown",
   "metadata": {},
   "source": [
    "Typically, a sample is drawn with the goal of measuring something (with a *sample statistic*) or modeling something (with a statistical or machine learning model). Since our estimate or model is based on a sample, it might be in error; it might be different if we were to draw a different sample. We are therefore interested in how different it might be—a key concern is *sampling variability*. If we had lots of data, we could draw additional samples and observe the distribution of a sample statistic directly.\n",
    "\n",
    "Typically, we will calculate our estimate or model using as much data as is easily available, so the option of drawing additional samples from the population is not readily available.\n",
    "\n",
    "**Note:** \n",
    "\n",
    "The distribution of a sample statistic such as the mean is likely to be more regular and bell shaped than the distribution of the data itself."
   ]
  },
  {
   "cell_type": "code",
   "execution_count": 17,
   "metadata": {},
   "outputs": [],
   "source": [
    "DATA = 'data/'\n",
    "LOANS_INCOME = DATA + 'loans_income.csv'\n",
    "SP500 = DATA + 'sp500_data.csv.gz'"
   ]
  },
  {
   "cell_type": "markdown",
   "metadata": {},
   "source": [
    "### Plotting histogram of annual income of loan applicants, mean of 5 applicants, mean of 20 applicants"
   ]
  },
  {
   "cell_type": "code",
   "execution_count": 18,
   "metadata": {},
   "outputs": [
    {
     "data": {
      "text/plain": [
       "0     67000\n",
       "1     52000\n",
       "2    100000\n",
       "3     78762\n",
       "4     37041\n",
       "Name: x, dtype: int64"
      ]
     },
     "execution_count": 18,
     "metadata": {},
     "output_type": "execute_result"
    }
   ],
   "source": [
    "loans = pd.read_csv(LOANS_INCOME).squeeze('columns')\n",
    "loans.head()"
   ]
  },
  {
   "cell_type": "code",
   "execution_count": 19,
   "metadata": {},
   "outputs": [
    {
     "data": {
      "text/html": [
       "<div>\n",
       "<style scoped>\n",
       "    .dataframe tbody tr th:only-of-type {\n",
       "        vertical-align: middle;\n",
       "    }\n",
       "\n",
       "    .dataframe tbody tr th {\n",
       "        vertical-align: top;\n",
       "    }\n",
       "\n",
       "    .dataframe thead th {\n",
       "        text-align: right;\n",
       "    }\n",
       "</style>\n",
       "<table border=\"1\" class=\"dataframe\">\n",
       "  <thead>\n",
       "    <tr style=\"text-align: right;\">\n",
       "      <th></th>\n",
       "      <th>income</th>\n",
       "      <th>type</th>\n",
       "    </tr>\n",
       "  </thead>\n",
       "  <tbody>\n",
       "    <tr>\n",
       "      <th>40292</th>\n",
       "      <td>63000.0</td>\n",
       "      <td>Data</td>\n",
       "    </tr>\n",
       "    <tr>\n",
       "      <th>38959</th>\n",
       "      <td>92000.0</td>\n",
       "      <td>Data</td>\n",
       "    </tr>\n",
       "    <tr>\n",
       "      <th>17361</th>\n",
       "      <td>134000.0</td>\n",
       "      <td>Data</td>\n",
       "    </tr>\n",
       "    <tr>\n",
       "      <th>33996</th>\n",
       "      <td>52000.0</td>\n",
       "      <td>Data</td>\n",
       "    </tr>\n",
       "    <tr>\n",
       "      <th>26491</th>\n",
       "      <td>43000.0</td>\n",
       "      <td>Data</td>\n",
       "    </tr>\n",
       "  </tbody>\n",
       "</table>\n",
       "</div>"
      ],
      "text/plain": [
       "         income  type\n",
       "40292   63000.0  Data\n",
       "38959   92000.0  Data\n",
       "17361  134000.0  Data\n",
       "33996   52000.0  Data\n",
       "26491   43000.0  Data"
      ]
     },
     "execution_count": 19,
     "metadata": {},
     "output_type": "execute_result"
    }
   ],
   "source": [
    "sample_loans = pd.DataFrame({\n",
    "    'income': loans.sample(1000),\n",
    "    'type': 'Data',\n",
    "})\n",
    "sample_loans_5 = pd.DataFrame({\n",
    "    'income': [loans.sample(5).mean() for _ in range(1000)],\n",
    "    'type': 'Mean of 5'\n",
    "})\n",
    "sample_loans_20 = pd.DataFrame({\n",
    "    'income': [loans.sample(20).mean() for _ in range(1000)],\n",
    "    'type': 'Mean of 20'\n",
    "})\n",
    "\n",
    "results = pd.concat([sample_loans, sample_loans_5, sample_loans_20])\n",
    "results.head()"
   ]
  },
  {
   "cell_type": "code",
   "execution_count": 20,
   "metadata": {},
   "outputs": [
    {
     "data": {
      "image/png": "[encoded data removed]",
      "text/plain": [
       "<Figure size 648x216 with 3 Axes>"
      ]
     },
     "metadata": {
      "needs_background": "light"
     },
     "output_type": "display_data"
    }
   ],
   "source": [
    "g = sns.FacetGrid(results, col='type')\n",
    "g.map(plt.hist, 'income', range=[0,200000], bins=40)\n",
    "g.set_axis_labels('Income', 'Count')\n",
    "g.set_titles('{col_name}')\n",
    "\n",
    "plt.show()"
   ]
  },
  {
   "cell_type": "markdown",
   "metadata": {},
   "source": [
    "Note that frequency distributions of a sample statistic tells us how that metric would turn out differently from sample to sample and can be estimated via the boostrap, or via formulas that rely on the central limit theorem. A key metric that sums up the variability of a sample statistic is its *standard error*.\n",
    "\n",
    "##### Note on the standard error on the mean (SEM) \n",
    "\n",
    "The SEM may be derived from the variance of a sum of independent random variables based on the standard deviation s of the sample values, and the sample size n:\n",
    "\n",
    "$$\n",
    "\\text{Standard error} = SE = \\frac{s}{\\sqrt{n}}\n",
    "$$\n",
    "\n",
    "for derivation see [standard error](https://en.wikipedia.org/wiki/Standard_error)"
   ]
  },
  {
   "cell_type": "markdown",
   "metadata": {},
   "source": [
    "In modern statistics, the *bootstrap* has become the standard way to estimate standard error. It can be used for virtually any statistic and does not rely on the central limit theorem or other distributional assumptions."
   ]
  },
  {
   "cell_type": "markdown",
   "metadata": {},
   "source": [
    "## The Bootstrap\n",
    "\n",
    "Conceptually, you can imagine the bootstrap as replicating the original sample thousands or millions of times so that you have a hypothetical population that embodies all the knowledge from your original sample (it’s just larger). You can then draw samples from this hypothetical population for the purpose of estimating a sampling distribution.\n",
    "\n",
    "Important key terms: \n",
    "- **Bootstrap sample**\n",
    "- **Resampling**\n",
    "\n",
    "The algorithm for a bootstrap resampling of the mean, for sample size n we have\n",
    "1. Draw a sample value, record it, and then replace it.\n",
    "2. Repeat n times\n",
    "3. Record the mean of the n resampled values\n",
    "4. Repeat 1-3 R times(R the number of iterations)\n",
    "5. Use the R results to:\n",
    "    - Calculate their standard deviation(which is used to estimates sample mean standard error)\n",
    "    - Produce a histogram or boxplot\n",
    "    - Find a confidence interval\n"
   ]
  },
  {
   "cell_type": "markdown",
   "metadata": {},
   "source": [
    "### Compute boostrap statistics (bias and standard error)"
   ]
  },
  {
   "cell_type": "code",
   "execution_count": 21,
   "metadata": {},
   "outputs": [
    {
     "name": "stdout",
     "output_type": "stream",
     "text": [
      "Bootstrap Statistics:\n",
      "original: 62000.0\n",
      "bias: -82.09799999999814\n",
      "std. err: 228.73933106830927\n"
     ]
    }
   ],
   "source": [
    "results = []\n",
    "for iteration in range(1000):\n",
    "    sample = resample(loans)\n",
    "    results.append(sample.median())\n",
    "results = pd.Series(results)\n",
    "print('Bootstrap Statistics:')\n",
    "print('original: {}'.format(loans.median()))\n",
    "print('bias: {}'.format(results.mean()-loans.median()))\n",
    "print('std. err: {}'.format(results.std()))"
   ]
  },
  {
   "cell_type": "markdown",
   "metadata": {},
   "source": [
    "The original estimate of the median is 62000 dollars. The bootstrap distribution indicates that the estimate has a bias of about -72 dollars and a standard error of 214 dollars. The results will vary slightly between consecutive runs of the algorithm.\n",
    "\n",
    "Note: we can run boostrapping on multivariate data. A model might then be run on the bootstrapped data, for example, to estimate the stability(vaiability) of model parameters, or to improve predictive power. With classification and regression trees, running multiple trees on bootstrap samples and then averaging their predictions or with classification, taking the majority vote, generally performs better than using a single tree. This process is called *bagging (bootstrap aggregation)*."
   ]
  },
  {
   "cell_type": "markdown",
   "metadata": {},
   "source": [
    "**Caution:**\n",
    "\n",
    "The bootstrap does not compensate for a small sample size; it does not create new data, nor does it fill in holes in an existing data set. It merely informs us about how lots of additional samples would behave when drawn from a population like our original sample."
   ]
  },
  {
   "cell_type": "markdown",
   "metadata": {},
   "source": [
    "## Confidence Intervals\n",
    "Important key terms: \n",
    "- **Confidence level**\n",
    "- **Interval endpoints**\n",
    "\n",
    "A x% confidence interval around a sample estimate should, on average, contian similar sample estimates x% of the time( when a similar sampling procedure is followed). Given a sample size n, and a sample statistic of interest, the algorithm for a bootstrap confidence interval is as follows:\n",
    "1. Draw a random sample of size n with replacement from the data(a resample)\n",
    "2. Record the statistic of interest for the resample\n",
    "3. Repeat steps 1-2 many(R) times\n",
    "4. For an x% confidence interval, trim $[(100-x)/2]$% of the R resample results from either end of the distribution\n",
    "5. The trim points are the endpoints of an x% bootstrap confidence interval.\n",
    "\n",
    "The bootstrap is a general tool that can be used to generate confidence intervals for most statistics, or model parameters. For a Data Scientist the confidence interval is a tool that can be used to get an idea of how variable a sample result might be, most likely to communicate the potential error in an estimate, and perhaps to learn whether a larger sample is needed."
   ]
  },
  {
   "cell_type": "markdown",
   "metadata": {},
   "source": [
    "### Bootstrap confidence interval for the annual income of loan applicants, based on a sample of 20"
   ]
  },
  {
   "cell_type": "code",
   "execution_count": 25,
   "metadata": {},
   "outputs": [
    {
     "name": "stdout",
     "output_type": "stream",
     "text": [
      "mean:  68760.51844\n",
      "mean of 20 samples:  55734.1\n"
     ]
    },
    {
     "data": {
      "text/plain": [
       "Text(0, 0.5, 'Counts')"
      ]
     },
     "execution_count": 25,
     "metadata": {},
     "output_type": "execute_result"
    },
    {
     "data": {
      "image/png": "[encoded data removed]",
      "text/plain": [
       "<Figure size 288x216 with 1 Axes>"
      ]
     },
     "metadata": {
      "needs_background": "light"
     },
     "output_type": "display_data"
    }
   ],
   "source": [
    "print('mean: ',loans.mean())\n",
    "np.random.seed(seed=3)  \n",
    "\n",
    "# create a sample of 20 loan income data\n",
    "sample20 = resample(loans, n_samples=20, replace=False)\n",
    "print('mean of 20 samples: ',sample20.mean())\n",
    "\n",
    "results = []\n",
    "for nrepeat in range(500):\n",
    "    sample = resample(sample20)\n",
    "    results.append(sample.mean())\n",
    "results = pd.Series(results)\n",
    "\n",
    "confidence_interval = list(results.quantile([0.05, 0.95]))\n",
    "\n",
    "ax = results.plot.hist(bins=30, figsize=(4, 3))\n",
    "ax.plot(confidence_interval, [55, 55], color='black')\n",
    "\n",
    "for x in confidence_interval:\n",
    "    ax.plot([x, x], [0, 65], color='black')\n",
    "    ax.text(x, 70, f'{x:.0f}', \n",
    "            horizontalalignment='center', \n",
    "            verticalalignment='center')\n",
    "    \n",
    "ax.text(sum(confidence_interval) / 2, 60, '90% interval',\n",
    "        horizontalalignment='center', verticalalignment='center')\n",
    "\n",
    "meanIncome = results.mean()\n",
    "\n",
    "ax.plot([meanIncome, meanIncome], [0, 50], color='black', linestyle='--')\n",
    "ax.text(meanIncome, 10, f'Mean: {meanIncome:.0f}',\n",
    "        bbox=dict(facecolor='white', edgecolor='white', alpha=0.5),\n",
    "        horizontalalignment='center', verticalalignment='center')\n",
    "\n",
    "ax.set_ylim(0, 80)\n",
    "ax.set_ylabel('Counts')"
   ]
  },
  {
   "cell_type": "code",
   "execution_count": 27,
   "metadata": {},
   "outputs": [
    {
     "data": {
      "text/plain": [
       "Text(0, 0.5, 'Counts')"
      ]
     },
     "execution_count": 27,
     "metadata": {},
     "output_type": "execute_result"
    },
    {
     "data": {
      "image/png": "[encoded data removed]",
      "text/plain": [
       "<Figure size 288x216 with 1 Axes>"
      ]
     },
     "metadata": {
      "needs_background": "light"
     },
     "output_type": "display_data"
    }
   ],
   "source": [
    "np.random.seed(seed=3)\n",
    "# create a sample of 20 loan income data\n",
    "sample20 = resample(loans, n_samples=20, replace=False)\n",
    "\n",
    "results = []\n",
    "for nrepeat in range(500):\n",
    "    sample = resample(sample20)\n",
    "    results.append(sample.mean())\n",
    "results = pd.Series(results)\n",
    "\n",
    "confidence_interval = list(results.quantile([0.05, 0.95]))\n",
    "ax = results.plot.hist(bins=30, figsize=(4, 3), color='C1')\n",
    "ax.plot(confidence_interval, [55, 55], color='black', linestyle='--')\n",
    "for x in confidence_interval:\n",
    "    ax.plot([x, x], [0, 60], color='black')\n",
    "ax.text(82000, 50, \n",
    "        f'90% CI\\n[{confidence_interval[0]:.0f}, {confidence_interval[1]:.0f}]',\n",
    "       fontsize='small')\n",
    "\n",
    "confidence_interval = list(results.quantile([0.025, 0.975]))\n",
    "ax = results.plot.hist(bins=30, figsize=(4, 3))\n",
    "ax.plot(confidence_interval, [65, 65], color='black', linestyle='--')\n",
    "for x in confidence_interval:\n",
    "    ax.plot([x, x], [0, 70], color='black')\n",
    "ax.text(82000, 65, \n",
    "        f'95% CI\\n[{confidence_interval[0]:.0f}, {confidence_interval[1]:.0f}]',\n",
    "       fontsize='small')\n",
    "# ax.text(sum(confidence_interval) / 2, 264, '95 % interval',\n",
    "#         horizontalalignment='center', verticalalignment='center')\n",
    "\n",
    "meanIncome = results.mean()\n",
    "ax.plot([meanIncome, meanIncome], [0, 50], color='black', linestyle='--')\n",
    "ax.text(meanIncome, 5, f'Mean: {meanIncome:.0f}',\n",
    "        bbox=dict(facecolor='white', edgecolor='white', alpha=0.5),\n",
    "        horizontalalignment='center', verticalalignment='center')\n",
    "ax.set_ylim(0, 80)\n",
    "ax.set_xlim(37000, 102000)\n",
    "ax.set_xticks([40000, 50000, 60000, 70000, 80000])\n",
    "ax.set_ylabel('Counts')\n",
    "\n",
    "# plt.tight_layout()\n",
    "# plt.show()"
   ]
  },
  {
   "attachments": {
    "image.png": {
     "image/png": "[encoded data removed]"
    }
   },
   "cell_type": "markdown",
   "metadata": {},
   "source": [
    "## Normal Distribution\n",
    "Important key terms:\n",
    "- **Error**\n",
    "- **Standardize**\n",
    "- **z-score**\n",
    "- **Standard normal**\n",
    "- **QQ-plot**\n",
    "\n",
    "Recall the 68,95,99 rule.\n",
    "\n",
    "![image.png](attachment:image.png)\n",
    "\n",
    "**Note:**\n",
    "\n",
    "Another name previously used for the normal distribution was the “error” distribution. Statistically speaking, an error is the difference between an actual value and a statistical estimate like the sample mean. For example, the standard deviation is based on the errors from the mean of the data."
   ]
  },
  {
   "cell_type": "markdown",
   "metadata": {},
   "source": [
    "### Plotting QQ-Plot of a sample of 100 values drawn from a standard normal distribution"
   ]
  },
  {
   "cell_type": "code",
   "execution_count": 8,
   "metadata": {},
   "outputs": [
    {
     "data": {
      "image/png": "[encoded data removed]",
      "text/plain": [
       "<Figure size 432x288 with 1 Axes>"
      ]
     },
     "metadata": {
      "needs_background": "light"
     },
     "output_type": "display_data"
    }
   ],
   "source": [
    "fig, ax = plt.subplots()\n",
    "norm_sample = stats.norm.rvs(size=100)\n",
    "stats.probplot(norm_sample, plot=ax)\n",
    "ax.set_ylabel('z-scores')\n",
    "ax.set_xlabel('Quantile of normal distribution')\n",
    "plt.show()"
   ]
  },
  {
   "cell_type": "markdown",
   "metadata": {},
   "source": [
    "## Long-Tailed Distribution\n",
    "Important key terms:\n",
    "- **Tail**\n",
    "- **Skew**\n",
    "\n",
    "Note that historically data is generally not normally distributed, which are useful with respect to errors and sample statistics. "
   ]
  },
  {
   "cell_type": "code",
   "execution_count": 9,
   "metadata": {},
   "outputs": [
    {
     "data": {
      "text/html": [
       "<div>\n",
       "<style scoped>\n",
       "    .dataframe tbody tr th:only-of-type {\n",
       "        vertical-align: middle;\n",
       "    }\n",
       "\n",
       "    .dataframe tbody tr th {\n",
       "        vertical-align: top;\n",
       "    }\n",
       "\n",
       "    .dataframe thead th {\n",
       "        text-align: right;\n",
       "    }\n",
       "</style>\n",
       "<table border=\"1\" class=\"dataframe\">\n",
       "  <thead>\n",
       "    <tr style=\"text-align: right;\">\n",
       "      <th></th>\n",
       "      <th>Unnamed: 0</th>\n",
       "      <th>ADS</th>\n",
       "      <th>CA</th>\n",
       "      <th>MSFT</th>\n",
       "      <th>RHT</th>\n",
       "      <th>CTSH</th>\n",
       "      <th>CSC</th>\n",
       "      <th>EMC</th>\n",
       "      <th>IBM</th>\n",
       "      <th>XRX</th>\n",
       "      <th>...</th>\n",
       "      <th>WAT</th>\n",
       "      <th>ALXN</th>\n",
       "      <th>AMGN</th>\n",
       "      <th>BXLT</th>\n",
       "      <th>BIIB</th>\n",
       "      <th>CELG</th>\n",
       "      <th>GILD</th>\n",
       "      <th>REGN</th>\n",
       "      <th>VRTX</th>\n",
       "      <th>HSIC</th>\n",
       "    </tr>\n",
       "  </thead>\n",
       "  <tbody>\n",
       "    <tr>\n",
       "      <th>0</th>\n",
       "      <td>1993-01-29</td>\n",
       "      <td>0.0</td>\n",
       "      <td>0.060124</td>\n",
       "      <td>-0.022100</td>\n",
       "      <td>0.0</td>\n",
       "      <td>0.0</td>\n",
       "      <td>0.018897</td>\n",
       "      <td>0.007368</td>\n",
       "      <td>0.092165</td>\n",
       "      <td>0.259140</td>\n",
       "      <td>...</td>\n",
       "      <td>0.0</td>\n",
       "      <td>0.0</td>\n",
       "      <td>0.34716</td>\n",
       "      <td>0.0</td>\n",
       "      <td>0.04167</td>\n",
       "      <td>0.00000</td>\n",
       "      <td>0.015564</td>\n",
       "      <td>1.75</td>\n",
       "      <td>0.1250</td>\n",
       "      <td>0.0</td>\n",
       "    </tr>\n",
       "    <tr>\n",
       "      <th>1</th>\n",
       "      <td>1993-02-01</td>\n",
       "      <td>0.0</td>\n",
       "      <td>-0.180389</td>\n",
       "      <td>0.027621</td>\n",
       "      <td>0.0</td>\n",
       "      <td>0.0</td>\n",
       "      <td>0.018889</td>\n",
       "      <td>0.018425</td>\n",
       "      <td>0.115207</td>\n",
       "      <td>-0.100775</td>\n",
       "      <td>...</td>\n",
       "      <td>0.0</td>\n",
       "      <td>0.0</td>\n",
       "      <td>-0.23144</td>\n",
       "      <td>0.0</td>\n",
       "      <td>0.00000</td>\n",
       "      <td>-0.01041</td>\n",
       "      <td>0.007782</td>\n",
       "      <td>1.25</td>\n",
       "      <td>0.1250</td>\n",
       "      <td>0.0</td>\n",
       "    </tr>\n",
       "    <tr>\n",
       "      <th>2</th>\n",
       "      <td>1993-02-02</td>\n",
       "      <td>0.0</td>\n",
       "      <td>-0.120257</td>\n",
       "      <td>0.035900</td>\n",
       "      <td>0.0</td>\n",
       "      <td>0.0</td>\n",
       "      <td>-0.075573</td>\n",
       "      <td>0.029482</td>\n",
       "      <td>-0.023041</td>\n",
       "      <td>0.028796</td>\n",
       "      <td>...</td>\n",
       "      <td>0.0</td>\n",
       "      <td>0.0</td>\n",
       "      <td>-0.11572</td>\n",
       "      <td>0.0</td>\n",
       "      <td>0.00000</td>\n",
       "      <td>0.00000</td>\n",
       "      <td>-0.007792</td>\n",
       "      <td>-0.25</td>\n",
       "      <td>0.0000</td>\n",
       "      <td>0.0</td>\n",
       "    </tr>\n",
       "    <tr>\n",
       "      <th>3</th>\n",
       "      <td>1993-02-03</td>\n",
       "      <td>0.0</td>\n",
       "      <td>0.060124</td>\n",
       "      <td>-0.024857</td>\n",
       "      <td>0.0</td>\n",
       "      <td>0.0</td>\n",
       "      <td>-0.151128</td>\n",
       "      <td>0.003689</td>\n",
       "      <td>-0.253454</td>\n",
       "      <td>-0.043190</td>\n",
       "      <td>...</td>\n",
       "      <td>0.0</td>\n",
       "      <td>0.0</td>\n",
       "      <td>-0.08679</td>\n",
       "      <td>0.0</td>\n",
       "      <td>0.04167</td>\n",
       "      <td>-0.04167</td>\n",
       "      <td>-0.038919</td>\n",
       "      <td>-0.50</td>\n",
       "      <td>0.0625</td>\n",
       "      <td>0.0</td>\n",
       "    </tr>\n",
       "    <tr>\n",
       "      <th>4</th>\n",
       "      <td>1993-02-04</td>\n",
       "      <td>0.0</td>\n",
       "      <td>-0.360770</td>\n",
       "      <td>-0.060757</td>\n",
       "      <td>0.0</td>\n",
       "      <td>0.0</td>\n",
       "      <td>0.113350</td>\n",
       "      <td>-0.022114</td>\n",
       "      <td>0.069862</td>\n",
       "      <td>0.000000</td>\n",
       "      <td>...</td>\n",
       "      <td>0.0</td>\n",
       "      <td>0.0</td>\n",
       "      <td>0.14465</td>\n",
       "      <td>0.0</td>\n",
       "      <td>-0.04166</td>\n",
       "      <td>-0.03126</td>\n",
       "      <td>-0.046711</td>\n",
       "      <td>0.00</td>\n",
       "      <td>0.0625</td>\n",
       "      <td>0.0</td>\n",
       "    </tr>\n",
       "  </tbody>\n",
       "</table>\n",
       "<p>5 rows × 518 columns</p>\n",
       "</div>"
      ],
      "text/plain": [
       "   Unnamed: 0  ADS        CA      MSFT  RHT  CTSH       CSC       EMC  \\\n",
       "0  1993-01-29  0.0  0.060124 -0.022100  0.0   0.0  0.018897  0.007368   \n",
       "1  1993-02-01  0.0 -0.180389  0.027621  0.0   0.0  0.018889  0.018425   \n",
       "2  1993-02-02  0.0 -0.120257  0.035900  0.0   0.0 -0.075573  0.029482   \n",
       "3  1993-02-03  0.0  0.060124 -0.024857  0.0   0.0 -0.151128  0.003689   \n",
       "4  1993-02-04  0.0 -0.360770 -0.060757  0.0   0.0  0.113350 -0.022114   \n",
       "\n",
       "        IBM       XRX  ...  WAT  ALXN     AMGN  BXLT     BIIB     CELG  \\\n",
       "0  0.092165  0.259140  ...  0.0   0.0  0.34716   0.0  0.04167  0.00000   \n",
       "1  0.115207 -0.100775  ...  0.0   0.0 -0.23144   0.0  0.00000 -0.01041   \n",
       "2 -0.023041  0.028796  ...  0.0   0.0 -0.11572   0.0  0.00000  0.00000   \n",
       "3 -0.253454 -0.043190  ...  0.0   0.0 -0.08679   0.0  0.04167 -0.04167   \n",
       "4  0.069862  0.000000  ...  0.0   0.0  0.14465   0.0 -0.04166 -0.03126   \n",
       "\n",
       "       GILD  REGN    VRTX  HSIC  \n",
       "0  0.015564  1.75  0.1250   0.0  \n",
       "1  0.007782  1.25  0.1250   0.0  \n",
       "2 -0.007792 -0.25  0.0000   0.0  \n",
       "3 -0.038919 -0.50  0.0625   0.0  \n",
       "4 -0.046711  0.00  0.0625   0.0  \n",
       "\n",
       "[5 rows x 518 columns]"
      ]
     },
     "execution_count": 9,
     "metadata": {},
     "output_type": "execute_result"
    }
   ],
   "source": [
    "sp500 = pd.read_csv(SP500)\n",
    "sp500.head()"
   ]
  },
  {
   "cell_type": "markdown",
   "metadata": {},
   "source": [
    "### Plotting QQ-Plot of the returns for Netflix(NFLX)"
   ]
  },
  {
   "cell_type": "code",
   "execution_count": 10,
   "metadata": {},
   "outputs": [
    {
     "data": {
      "image/png": "[encoded data removed]",
      "text/plain": [
       "<Figure size 432x288 with 1 Axes>"
      ]
     },
     "metadata": {
      "needs_background": "light"
     },
     "output_type": "display_data"
    }
   ],
   "source": [
    "nflx = sp500.NFLX\n",
    "\n",
    "# If we want to model returns using the normal distribution!\n",
    "# - SIMPLE RETURNS: The product of normally distributed variables is NOT normally distributed\n",
    "# - LOG RETURNS: The sum of normally distributed variables DOES follow a normal distribution\n",
    "# Also the log distribution bounds our stock price at 0. Which is a nice property to have and is consistent with reality.\n",
    "\n",
    "nflx = np.diff(np.log(nflx[nflx>0]))\n",
    "fig, ax = plt.subplots()\n",
    "stats.probplot(nflx, plot=ax)\n",
    "ax.set_xlabel('Quantile of normal distribution')\n",
    "ax.set_ylabel('z-score')\n",
    "plt.show()"
   ]
  },
  {
   "cell_type": "markdown",
   "metadata": {},
   "source": [
    "Note: in contrast to normal distribution QQ-Plot the points above are for below the line for low values and far above the line for high values, indicating the data are not normally distributed. This means we are much more likely to observe extreme values than would be expected if the data had a normal distribution."
   ]
  },
  {
   "cell_type": "markdown",
   "metadata": {},
   "source": [
    "## Student's t-Distribution\n",
    "Important key terms:\n",
    "- **Degrees of freedom**\n",
    "\n",
    "Note: t-distribution is normally shape but is also thicker and longer on the tails. Used a lot in sample statistics, like the sample mean.\n",
    "\n",
    "Also, t-distribution is used in classical statistical inference but is not central to the purpose of data science. Empirical bootstrap sampling can answer most questions about sampling error. On the other hand, data scientist can encounter t-statistics in output from statitistic software, for example in A/B tests and regressions."
   ]
  },
  {
   "cell_type": "markdown",
   "metadata": {},
   "source": [
    "## Binomial Distribution\n",
    "Important key terms:\n",
    "- **Trial**\n",
    "- **Success**\n",
    "- **Binomial**\n",
    "- **Binomial trial**\n",
    "- **Binomial distribution**\n",
    "\n",
    "Binomial distribution would answer a question like: If the probability of a click converting to a sale is .02, what is the probability of observing 0 sales in 200 clicks? Note that calculating binomial probabilities with large sample sized and probability not too close to 0 or 1 most statistical procedures use the normal distribution with mean and variance, as an approximation."
   ]
  },
  {
   "cell_type": "markdown",
   "metadata": {},
   "source": [
    "### Compute binomial PMF and CDF of observing 0 sales in 200 clicks with p = .02"
   ]
  },
  {
   "cell_type": "code",
   "execution_count": 11,
   "metadata": {},
   "outputs": [
    {
     "data": {
      "text/plain": [
       "0.01758794660572155"
      ]
     },
     "execution_count": 11,
     "metadata": {},
     "output_type": "execute_result"
    }
   ],
   "source": [
    "stats.binom.pmf(0, n=200, p=.02)"
   ]
  },
  {
   "cell_type": "code",
   "execution_count": 12,
   "metadata": {},
   "outputs": [
    {
     "data": {
      "text/plain": [
       "0.0175879466057215"
      ]
     },
     "execution_count": 12,
     "metadata": {},
     "output_type": "execute_result"
    }
   ],
   "source": [
    "stats.binom.cdf(0, n=200, p=.02)"
   ]
  },
  {
   "cell_type": "markdown",
   "metadata": {},
   "source": [
    "## Chi-Square Distribution\n",
    "Say you want to test whether one variable(say 'gender') is independent of another(say 'was promoted in job') and you have the counts of the number in each of the cells of the data table. The statistic that measures the extent of which results depart from the null expectation of independence is the chi-square statistic. It's the difference between the observed and expected values, divided by the square root of the expected value, squared, then summed across all categories. A low chi-square value for a set of counts indicates that they closely follow the expected distribution"
   ]
  },
  {
   "cell_type": "markdown",
   "metadata": {},
   "source": [
    "## F-Distribution\n",
    "Much like the chi-square distribution we are dealing with multiple treatments across groups. In this case we are interested in the extent to which differences among group means are greater than we might expect under normal random variation. The F-statistic measures this and is the ratio of the variablility amoung the group  means to the variability within each group. This comparison is termed an analysis of variance (ANOVA). The F-statistic is also used in linear regression to compare the variation accounted for by the regression model to the overall variation in the data."
   ]
  },
  {
   "cell_type": "markdown",
   "metadata": {},
   "source": [
    "## Poisson and Related Distributions\n",
    "Important key terms:\n",
    "- **Lambda**\n",
    "- **Poisson distribution**\n",
    "- **Exponential distribution**\n",
    "- **Weibull distribution**"
   ]
  },
  {
   "cell_type": "markdown",
   "metadata": {},
   "source": [
    "### Simulating and plotting poisson distribution"
   ]
  },
  {
   "cell_type": "code",
   "execution_count": 13,
   "metadata": {},
   "outputs": [
    {
     "data": {
      "image/png": "[encoded data removed]",
      "text/plain": [
       "<Figure size 432x288 with 1 Axes>"
      ]
     },
     "metadata": {
      "needs_background": "light"
     },
     "output_type": "display_data"
    }
   ],
   "source": [
    "poisson_sample = stats.poisson.rvs(2, size=100)\n",
    "pd.Series(poisson_sample).hist()\n",
    "plt.show()"
   ]
  },
  {
   "cell_type": "markdown",
   "metadata": {},
   "source": [
    "### Simulating and plotting exponential distribution"
   ]
  },
  {
   "cell_type": "code",
   "execution_count": 14,
   "metadata": {},
   "outputs": [
    {
     "data": {
      "image/png": "[encoded data removed]",
      "text/plain": [
       "<Figure size 432x288 with 1 Axes>"
      ]
     },
     "metadata": {
      "needs_background": "light"
     },
     "output_type": "display_data"
    }
   ],
   "source": [
    "exponential_sample = stats.expon.rvs(.2, size=100)\n",
    "pd.Series(exponential_sample).hist()\n",
    "plt.show()"
   ]
  },
  {
   "cell_type": "markdown",
   "metadata": {},
   "source": [
    "### Simulating and plotting weibull distribution"
   ]
  },
  {
   "cell_type": "code",
   "execution_count": 15,
   "metadata": {},
   "outputs": [
    {
     "data": {
      "image/png": "[encoded data removed]",
      "text/plain": [
       "<Figure size 432x288 with 1 Axes>"
      ]
     },
     "metadata": {
      "needs_background": "light"
     },
     "output_type": "display_data"
    }
   ],
   "source": [
    "weibull_sample = stats.weibull_min.rvs(1.5, scale=5000, size=100)\n",
    "pd.Series(weibull_sample).hist()\n",
    "plt.show()"
   ]
  },
  {
   "cell_type": "code",
   "execution_count": null,
   "metadata": {},
   "outputs": [],
   "source": []
  }
 ],
 "metadata": {
  "kernelspec": {
   "display_name": "Python 3",
   "language": "python",
   "name": "python3"
  },
  "language_info": {
   "codemirror_mode": {
    "name": "ipython",
    "version": 3
   },
   "file_extension": ".py",
   "mimetype": "text/x-python",
   "name": "python",
   "nbconvert_exporter": "python",
   "pygments_lexer": "ipython3",
   "version": "3.7.0"
  },
  "orig_nbformat": 4
 },
 "nbformat": 4,
 "nbformat_minor": 2
}
