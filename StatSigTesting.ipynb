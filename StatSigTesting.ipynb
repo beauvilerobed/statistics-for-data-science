{
 "cells": [
  {
   "cell_type": "markdown",
   "metadata": {},
   "source": [
    "# Statistical Experiments and Significance Testing\n",
    "\n",
    "The goal is to design an experiment in order to confirm or reject a hypothesis. Data Scientist often conducts continual experiments, particularly regarding user interface and product marketing."
   ]
  },
  {
   "cell_type": "markdown",
   "metadata": {},
   "source": [
    "## A/B Testing\n",
    "Important key terms: \n",
    "- **Treatment**\n",
    "- **Treatment group**\n",
    "- **Control group**\n",
    "- **Randomization**\n",
    "- **Subjects**\n",
    "- **Test statistic**\n",
    "\n",
    "Data Scientist are less interested in the question:\n",
    "- It the difference between price A and price B statistically significant?\n",
    "than in the question:\n",
    "- Which, out of multiple possible prices, is best?\n",
    "\n",
    "For this, a relatively new type of experimental design is used: **the multi-arm bandit**"
   ]
  },
  {
   "cell_type": "markdown",
   "metadata": {},
   "source": [
    "## Hypothesis Tests\n",
    "Important key terms: \n",
    "- **Null hypothesis**\n",
    "- **Alternative hypothesis**\n",
    "- **One-way test**\n",
    "- **Two-way test**\n",
    "\n",
    "An A/B test is typically constructed with a hypothesis in mind. Why not just look at the outcome of the experiment and go with whichever treatment does better? \n",
    "- Failure to anticipate extreme events\n",
    "- Misinterpret random events as having patterns of some significance. \n",
    "\n",
    "Recall the misinterpretation of randomness (50 written coin tosses vs. 50 real coin tosses)\n",
    "\n",
    "Note that one-tial vs. two-tail is a confusing subject, and not that relevant to data science, where the percision of p-value calculations is not terribly important."
   ]
  },
  {
   "cell_type": "markdown",
   "metadata": {},
   "source": [
    "## Resampling\n",
    "Important key terms: \n",
    "- **Permutation test** (for visualization: https://www.jwilber.me/permutationtest/)\n",
    "- **Resampling**\n",
    "- **With or without replacement**"
   ]
  },
  {
   "cell_type": "markdown",
   "metadata": {},
   "source": [
    "## Example: Web Stickiness\n",
    "\n",
    "Using a proxy variable a company decides to measure which two presentations does a better job selling this relatively high-value service. One potential proxy variable for our company is the number of clicks on the detailed landing page. A better on is how long people spend on the page (average session time), comparing page A to page B.\n",
    " \n",
    "Note: Google Analytics cannot measure session time for the last session a person visits so it records it as a zero. Additional processiong to remove those sessions is required."
   ]
  },
  {
   "cell_type": "code",
   "execution_count": 2,
   "metadata": {},
   "outputs": [],
   "source": [
    "import pandas as pd\n",
    "import numpy as np\n",
    "import matplotlib.pyplot as plt\n",
    "import random\n",
    "from pathlib import Path\n",
    "from scipy import stats\n",
    "import statsmodels.api as sm\n",
    "import statsmodels.formula.api as smf\n",
    "from statsmodels.stats import power\n",
    "\n",
    "\n",
    "%matplotlib inline"
   ]
  },
  {
   "cell_type": "code",
   "execution_count": 3,
   "metadata": {},
   "outputs": [],
   "source": [
    "try:\n",
    "    import common\n",
    "    DATA = common.dataDirectory()\n",
    "except ImportError:\n",
    "    DATA = Path().resolve() / 'data'"
   ]
  },
  {
   "cell_type": "code",
   "execution_count": 4,
   "metadata": {},
   "outputs": [],
   "source": [
    "WEB_PAGE_DATA_CSV = DATA / 'web_page_data.csv'\n",
    "FOUR_SESSIONS_CSV = DATA / 'four_sessions.csv'\n",
    "CLICK_RATE_CSV = DATA / 'click_rates.csv'\n",
    "IMANISHI_CSV = DATA / 'imanishi_data.csv'"
   ]
  },
  {
   "cell_type": "code",
   "execution_count": 6,
   "metadata": {},
   "outputs": [
    {
     "data": {
      "text/html": [
       "<div>\n",
       "<style scoped>\n",
       "    .dataframe tbody tr th:only-of-type {\n",
       "        vertical-align: middle;\n",
       "    }\n",
       "\n",
       "    .dataframe tbody tr th {\n",
       "        vertical-align: top;\n",
       "    }\n",
       "\n",
       "    .dataframe thead th {\n",
       "        text-align: right;\n",
       "    }\n",
       "</style>\n",
       "<table border=\"1\" class=\"dataframe\">\n",
       "  <thead>\n",
       "    <tr style=\"text-align: right;\">\n",
       "      <th></th>\n",
       "      <th>Page</th>\n",
       "      <th>Time</th>\n",
       "    </tr>\n",
       "  </thead>\n",
       "  <tbody>\n",
       "    <tr>\n",
       "      <th>0</th>\n",
       "      <td>Page A</td>\n",
       "      <td>0.21</td>\n",
       "    </tr>\n",
       "    <tr>\n",
       "      <th>1</th>\n",
       "      <td>Page B</td>\n",
       "      <td>2.53</td>\n",
       "    </tr>\n",
       "    <tr>\n",
       "      <th>2</th>\n",
       "      <td>Page A</td>\n",
       "      <td>0.35</td>\n",
       "    </tr>\n",
       "    <tr>\n",
       "      <th>3</th>\n",
       "      <td>Page B</td>\n",
       "      <td>0.71</td>\n",
       "    </tr>\n",
       "    <tr>\n",
       "      <th>4</th>\n",
       "      <td>Page A</td>\n",
       "      <td>0.67</td>\n",
       "    </tr>\n",
       "  </tbody>\n",
       "</table>\n",
       "</div>"
      ],
      "text/plain": [
       "     Page  Time\n",
       "0  Page A  0.21\n",
       "1  Page B  2.53\n",
       "2  Page A  0.35\n",
       "3  Page B  0.71\n",
       "4  Page A  0.67"
      ]
     },
     "execution_count": 6,
     "metadata": {},
     "output_type": "execute_result"
    }
   ],
   "source": [
    "session_times = pd.read_csv(WEB_PAGE_DATA_CSV)\n",
    "session_times.head()"
   ]
  },
  {
   "cell_type": "code",
   "execution_count": 7,
   "metadata": {},
   "outputs": [],
   "source": [
    "session_times.Time = 100*session_times.Time "
   ]
  },
  {
   "cell_type": "code",
   "execution_count": 10,
   "metadata": {},
   "outputs": [
    {
     "data": {
      "image/png": "[encoded data removed]",
      "text/plain": [
       "<Figure size 432x288 with 1 Axes>"
      ]
     },
     "metadata": {
      "needs_background": "light"
     },
     "output_type": "display_data"
    }
   ],
   "source": [
    "ax = session_times.boxplot(by='Page', column='Time')\n",
    "ax.set_xlabel('')\n",
    "ax.set_ylabel('Time (in seconds)')\n",
    "plt.suptitle('')\n",
    "plt.show()"
   ]
  },
  {
   "cell_type": "markdown",
   "metadata": {},
   "source": [
    "Note: page B leads to longer sessions than page A."
   ]
  },
  {
   "cell_type": "code",
   "execution_count": 11,
   "metadata": {},
   "outputs": [
    {
     "data": {
      "text/plain": [
       "35.66666666666667"
      ]
     },
     "execution_count": 11,
     "metadata": {},
     "output_type": "execute_result"
    }
   ],
   "source": [
    "mean_a = session_times[session_times['Page'] == 'Page A']['Time'].mean()\n",
    "mean_b = session_times[session_times['Page'] == 'Page B']['Time'].mean()\n",
    "mean_b-mean_a"
   ]
  },
  {
   "cell_type": "markdown",
   "metadata": {},
   "source": [
    "Page B has session times that are greater than those of page A by 35.67 seconds, on average. The question is whethe this difference is within the range of what random chance might produce, i.e. is statistically significant. One way to answer this is with a permutation test"
   ]
  },
  {
   "cell_type": "code",
   "execution_count": 12,
   "metadata": {},
   "outputs": [],
   "source": [
    "def perm_fun(x, nA, nB):\n",
    "    n = nA + nB\n",
    "    idx_B = set(random.sample(range(n), nB))\n",
    "    idx_A = set(range(n)) - idx_B\n",
    "    return x.loc[idx_B].mean() - x.loc[idx_A].mean()"
   ]
  },
  {
   "cell_type": "code",
   "execution_count": 21,
   "metadata": {},
   "outputs": [
    {
     "data": {
      "text/plain": [
       "Page A    21\n",
       "Page B    15\n",
       "Name: Page, dtype: int64"
      ]
     },
     "execution_count": 21,
     "metadata": {},
     "output_type": "execute_result"
    }
   ],
   "source": [
    "session_times['Page'].value_counts()"
   ]
  },
  {
   "cell_type": "code",
   "execution_count": 22,
   "metadata": {},
   "outputs": [
    {
     "name": "stdout",
     "output_type": "stream",
     "text": [
      "21 15\n",
      "-1.1333333333333258\n"
     ]
    }
   ],
   "source": [
    "nA = session_times[session_times['Page'] == 'Page A'].shape[0]\n",
    "nB  = session_times[session_times['Page'] == 'Page B'].shape[0]\n",
    "print(nA, nB)\n",
    "print(perm_fun(session_times.Time, nA, nB))"
   ]
  },
  {
   "cell_type": "code",
   "execution_count": 24,
   "metadata": {},
   "outputs": [
    {
     "data": {
      "image/png": "[encoded data removed]",
      "text/plain": [
       "<Figure size 432x288 with 1 Axes>"
      ]
     },
     "metadata": {
      "needs_background": "light"
     },
     "output_type": "display_data"
    }
   ],
   "source": [
    "perm_diffs = [perm_fun(session_times.Time, nA, nB) for _ in range(1000)]\n",
    "\n",
    "fig, ax = plt.subplots()\n",
    "ax.hist(perm_diffs, bins=11, rwidth=0.9)\n",
    "ax.axvline(x=mean_b-mean_a, color='black', lw=2)\n",
    "ax.text(50,190, 'Observed\\ndifference', bbox={'facecolor': 'white'})\n",
    "ax.set_xlabel('Session time differences (in seconds)')\n",
    "ax.set_ylabel('Frequency')\n",
    "plt.show()"
   ]
  },
  {
   "cell_type": "markdown",
   "metadata": {},
   "source": [
    "The histogram shows that mean difference of random permutations often exceed the observed difference in session times. This happens approx. 12% of the time."
   ]
  },
  {
   "cell_type": "code",
   "execution_count": 26,
   "metadata": {},
   "outputs": [
    {
     "data": {
      "text/plain": [
       "0.119"
      ]
     },
     "execution_count": 26,
     "metadata": {},
     "output_type": "execute_result"
    }
   ],
   "source": [
    "np.mean(perm_diffs > mean_b - mean_a)"
   ]
  },
  {
   "cell_type": "markdown",
   "metadata": {},
   "source": [
    "Thus the observed difference in session time between page A and page B is well within the range of chance variation and thus is not statistically significant."
   ]
  },
  {
   "cell_type": "markdown",
   "metadata": {},
   "source": [
    "## Statistical Significance and p-Values\n",
    "Important key terms: \n",
    "- **p-value** (probability of obtaining results as unusual or extreme as the observed results)\n",
    "- **Alpha**\n",
    "- **Type 1 error**\n",
    "- **Type 2 error**"
   ]
  },
  {
   "cell_type": "markdown",
   "metadata": {},
   "source": [
    "### Table for ecommerce experiment results\n",
    "\n",
    "|Outcome|Price A|Price B|\n",
    "|---|---|---|\n",
    "|Conversion|200|182|\n",
    "|No Conversion|23,539|22,406|"
   ]
  },
  {
   "cell_type": "markdown",
   "metadata": {},
   "source": [
    "Price A converts almost 5% better than price B. Note that it's tempting to consider this 'big data' with 45000 data points (significance testing is needed only to account for sampling variability in small samples) but the value of interest only has hundreds of data points. So we can ask if the two prices share the same conversion rate, could chance variation produce a difference as big as 5%?"
   ]
  },
  {
   "cell_type": "code",
   "execution_count": 31,
   "metadata": {},
   "outputs": [
    {
     "name": "stdout",
     "output_type": "stream",
     "text": [
      "Observed difference: 0.0368%\n"
     ]
    },
    {
     "data": {
      "image/png": "[encoded data removed]",
      "text/plain": [
       "<Figure size 432x288 with 1 Axes>"
      ]
     },
     "metadata": {
      "needs_background": "light"
     },
     "output_type": "display_data"
    }
   ],
   "source": [
    "obs_pct_diff = 100*(200/(23539+200)-182/(22406+182))\n",
    "print('Observed difference: {:.4f}%'.format(obs_pct_diff))\n",
    "conversion = [0]*(23593+22406)\n",
    "conversion.extend([1]*(200+182))\n",
    "conversion = pd.Series(conversion)\n",
    "\n",
    "perm_diffs = [100*perm_fun(conversion, 23539+200, 22406+182) for _ in range(1000)]\n",
    "fig, ax = plt.subplots()\n",
    "ax.hist(perm_diffs, bins=11, rwidth=0.9)\n",
    "ax.axvline(x=obs_pct_diff, color='black', lw=2)\n",
    "ax.text(.06,200, 'Observed\\ndifference', bbox={'facecolor': 'white'})\n",
    "ax.set_xlabel('Conversion rate (percent)')\n",
    "ax.set_ylabel('Frequency')\n",
    "plt.show()"
   ]
  },
  {
   "cell_type": "markdown",
   "metadata": {},
   "source": []
  },
  {
   "cell_type": "code",
   "execution_count": 33,
   "metadata": {},
   "outputs": [
    {
     "data": {
      "text/plain": [
       "0.304"
      ]
     },
     "execution_count": 33,
     "metadata": {},
     "output_type": "execute_result"
    }
   ],
   "source": [
    "# p-value\n",
    "np.mean([diff > obs_pct_diff for diff in perm_diffs])"
   ]
  },
  {
   "cell_type": "markdown",
   "metadata": {},
   "source": [
    "Note that we didn't need to use a permutation test to get a p-value. We have binomial distribution, we can approximate the p-value"
   ]
  },
  {
   "cell_type": "code",
   "execution_count": 45,
   "metadata": {},
   "outputs": [
    {
     "name": "stdout",
     "output_type": "stream",
     "text": [
      "p-value for single sided test: 0.3581\n"
     ]
    }
   ],
   "source": [
    "survivors = np.array([[200, 23593], [182, 22406]])\n",
    "chi2, p_value, df, _ = stats.chi2_contingency(survivors)\n",
    "print('p-value for single sided test: {:.4f}'.format(p_value/2))"
   ]
  },
  {
   "cell_type": "markdown",
   "metadata": {},
   "source": [
    "What the p-value actully represents is: given a chance model, results as extreme as the observed result could occur. Significance tests are typically structured to minimize Type 1 errors. For Data Science p-value is a decision tool in an experiment, merely another point of information bearing on a decision. For example, p-values are sometimes used as intermediate inputs in some statisitcal or machine learning models - a feature might be included in or excluded from a model depending on its p-value."
   ]
  },
  {
   "cell_type": "code",
   "execution_count": null,
   "metadata": {},
   "outputs": [],
   "source": []
  }
 ],
 "metadata": {
  "kernelspec": {
   "display_name": "Python 3",
   "language": "python",
   "name": "python3"
  },
  "language_info": {
   "codemirror_mode": {
    "name": "ipython",
    "version": 3
   },
   "file_extension": ".py",
   "mimetype": "text/x-python",
   "name": "python",
   "nbconvert_exporter": "python",
   "pygments_lexer": "ipython3",
   "version": "3.7.0"
  },
  "orig_nbformat": 4
 },
 "nbformat": 4,
 "nbformat_minor": 2
}
